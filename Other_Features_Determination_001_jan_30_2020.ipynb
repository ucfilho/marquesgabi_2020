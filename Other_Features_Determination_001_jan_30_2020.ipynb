{
  "nbformat": 4,
  "nbformat_minor": 0,
  "metadata": {
    "colab": {
      "name": "Other_Features_Determination_001_jan_30_2020.ipynb",
      "provenance": [],
      "collapsed_sections": [],
      "include_colab_link": true
    },
    "kernelspec": {
      "name": "python3",
      "display_name": "Python 3"
    },
    "accelerator": "GPU"
  },
  "cells": [
    {
      "cell_type": "markdown",
      "metadata": {
        "id": "view-in-github",
        "colab_type": "text"
      },
      "source": [
        "<a href=\"https://colab.research.google.com/github/ucfilho/marquesgabi_2020/blob/master/Other_Features_Determination_001_jan_30_2020.ipynb\" target=\"_parent\"><img src=\"https://colab.research.google.com/assets/colab-badge.svg\" alt=\"Open In Colab\"/></a>"
      ]
    },
    {
      "cell_type": "code",
      "metadata": {
        "id": "f393Z8HdEmRg",
        "colab_type": "code",
        "colab": {}
      },
      "source": [
        "#!pip install mahotas"
      ],
      "execution_count": 0,
      "outputs": []
    },
    {
      "cell_type": "code",
      "metadata": {
        "id": "W0wfLMP8nWAM",
        "colab_type": "code",
        "outputId": "6ea4fac2-760f-49c8-d0c2-59a639a34173",
        "colab": {
          "base_uri": "https://localhost:8080/",
          "height": 54
        }
      },
      "source": [
        "\n",
        "!git clone https://github.com/ucfilho/marquesgabi #clonar do Github\n",
        "%cd marquesgabi"
      ],
      "execution_count": 2,
      "outputs": [
        {
          "output_type": "stream",
          "text": [
            "fatal: destination path 'marquesgabi' already exists and is not an empty directory.\n",
            "/content/marquesgabi\n"
          ],
          "name": "stdout"
        }
      ]
    },
    {
      "cell_type": "code",
      "metadata": {
        "id": "SzWdrvAgvBId",
        "colab_type": "code",
        "colab": {}
      },
      "source": [
        "import numpy as np\n",
        "import cv2\n",
        "from skimage import data\n",
        "import matplotlib.pyplot as plt\n",
        "import matplotlib\n",
        "import pandas as pd\n",
        "from skimage import io, util\n",
        "import mahotas.features.texture as mht\n",
        "import mahotas.features\n",
        "import os \n",
        "import zipfile\n",
        "from skimage import filters\n",
        "from skimage import exposure\n",
        "import skimage.feature as sk\n",
        "from google.colab import files\n",
        "from numpy import linalg as LA\n",
        "from scipy.signal import find_peaks\n",
        "from scipy.signal import peak_prominences\n",
        "from scipy.signal import peak_widths\n",
        "import re\n",
        "import Go2BlackWhite\n",
        "import Go2Mahotas\n",
        "%matplotlib inline"
      ],
      "execution_count": 0,
      "outputs": []
    },
    {
      "cell_type": "code",
      "metadata": {
        "id": "xoW1HoWp3qNO",
        "colab_type": "code",
        "colab": {}
      },
      "source": [
        "Size=20 # tamanho da foto\n",
        "Sub_Size=int(Size/5) # tamanho do fracionamento\n",
        "Row_Crop=1/2 # posicao do corte\n",
        "Crop=int(Size*Row_Crop)"
      ],
      "execution_count": 0,
      "outputs": []
    },
    {
      "cell_type": "code",
      "metadata": {
        "id": "h1Zsufcm9bfv",
        "colab_type": "code",
        "outputId": "7c308a9d-85c3-41cb-9aab-3eb672723e12",
        "colab": {
          "base_uri": "https://localhost:8080/",
          "height": 217
        }
      },
      "source": [
        "!wget http://ftp.feq.ufu.br/ubirajara/GrBuInd.zip\n",
        "Transfere='GrBuInd.zip'"
      ],
      "execution_count": 5,
      "outputs": [
        {
          "output_type": "stream",
          "text": [
            "--2020-01-30 13:59:36--  http://ftp.feq.ufu.br/ubirajara/GrBuInd.zip\n",
            "Resolving ftp.feq.ufu.br (ftp.feq.ufu.br)... 200.19.144.11\n",
            "Connecting to ftp.feq.ufu.br (ftp.feq.ufu.br)|200.19.144.11|:80... connected.\n",
            "HTTP request sent, awaiting response... 200 OK\n",
            "Length: 497627 (486K) [application/zip]\n",
            "Saving to: ‘GrBuInd.zip.1’\n",
            "\n",
            "GrBuInd.zip.1       100%[===================>] 485.96K   421KB/s    in 1.2s    \n",
            "\n",
            "2020-01-30 13:59:38 (421 KB/s) - ‘GrBuInd.zip.1’ saved [497627/497627]\n",
            "\n"
          ],
          "name": "stdout"
        }
      ]
    },
    {
      "cell_type": "code",
      "metadata": {
        "id": "c43TnWalRs_H",
        "colab_type": "code",
        "colab": {}
      },
      "source": [
        "file_name = zipfile.ZipFile(Transfere, 'r')\n",
        "file_name.extractall()"
      ],
      "execution_count": 0,
      "outputs": []
    },
    {
      "cell_type": "code",
      "metadata": {
        "id": "GrLtSCRor_By",
        "colab_type": "code",
        "colab": {}
      },
      "source": [
        "# print(img_name)"
      ],
      "execution_count": 0,
      "outputs": []
    },
    {
      "cell_type": "code",
      "metadata": {
        "colab_type": "code",
        "id": "qCKcPafHsAuJ",
        "colab": {}
      },
      "source": [
        "# ww contain all photos in black and white\n",
        "ww,img_name=Go2BlackWhite.BlackWhite(Transfere,Size)\n",
        "# plt.axis(\"off\")\n",
        "# plt.imshow(ww[0], cmap = \"gray\")"
      ],
      "execution_count": 0,
      "outputs": []
    },
    {
      "cell_type": "code",
      "metadata": {
        "id": "Vi1KNBztICWH",
        "colab_type": "code",
        "outputId": "92f364ca-eff7-493f-d0e2-6e3a3b0a1b5e",
        "colab": {
          "base_uri": "https://localhost:8080/",
          "height": 35
        }
      },
      "source": [
        "print(np.mean(ww[0]))"
      ],
      "execution_count": 9,
      "outputs": [
        {
          "output_type": "stream",
          "text": [
            "134.1025\n"
          ],
          "name": "stdout"
        }
      ]
    },
    {
      "cell_type": "code",
      "metadata": {
        "id": "pMJdA-nxIpQO",
        "colab_type": "code",
        "outputId": "cdf85c60-cf31-47c7-aac2-d6cac057d174",
        "colab": {
          "base_uri": "https://localhost:8080/",
          "height": 55
        }
      },
      "source": [
        "Num,Row,Col=np.asarray(ww).shape\n",
        "Idx=[]\n",
        "New_Colunm=[]\n",
        "\n",
        "for i in range(Num):\n",
        "  Media=np.mean(ww[i])\n",
        "  k=np.where(ww[i].ravel() > Media)\n",
        "  Idx.append(np.asarray(k).ravel())\n",
        "\n",
        "Quant=Size*Size\n",
        "for i in Idx:\n",
        "  #print(i)\n",
        "  New_Colunm.append(len(i)/Quant)\n",
        "print(New_Colunm)"
      ],
      "execution_count": 10,
      "outputs": [
        {
          "output_type": "stream",
          "text": [
            "[0.5825, 0.4125, 0.41, 0.4225, 0.4825, 0.53, 0.49, 0.38, 0.405, 0.4125, 0.41, 0.53, 0.5775, 0.4675, 0.4675, 0.5, 0.51, 0.53, 0.485, 0.4775, 0.5275, 0.495, 0.5525, 0.48, 0.5275, 0.4325, 0.4575, 0.5475, 0.56, 0.535, 0.5, 0.59, 0.51, 0.525, 0.44, 0.435, 0.5125, 0.39, 0.565, 0.5075, 0.485, 0.4825, 0.3775, 0.5275, 0.5475, 0.5325, 0.58, 0.4275, 0.41, 0.5175, 0.5225, 0.44, 0.4375, 0.395, 0.535, 0.555, 0.4825, 0.4325, 0.4625, 0.4525, 0.495, 0.4925, 0.5875, 0.3625, 0.375, 0.355, 0.4075, 0.405, 0.465, 0.4575, 0.4725, 0.4825, 0.4375, 0.585, 0.5325, 0.57, 0.4775, 0.4425, 0.4025, 0.45, 0.4625, 0.615, 0.5575, 0.4675, 0.4175, 0.45, 0.4525, 0.4625, 0.525, 0.4625, 0.525, 0.455, 0.3875, 0.6025, 0.33, 0.5625, 0.33, 0.3675, 0.41, 0.5, 0.53, 0.4875, 0.47, 0.54, 0.41, 0.5125, 0.4975, 0.5575, 0.405, 0.6125, 0.5575, 0.5075, 0.4025, 0.4875, 0.4825, 0.4575, 0.43, 0.39, 0.45, 0.41, 0.435, 0.505, 0.5325, 0.46]\n"
          ],
          "name": "stdout"
        }
      ]
    },
    {
      "cell_type": "code",
      "metadata": {
        "id": "LKmJaSroR9XJ",
        "colab_type": "code",
        "outputId": "c2caee26-673e-4339-c238-925122993c02",
        "colab": {
          "base_uri": "https://localhost:8080/",
          "height": 35
        }
      },
      "source": [
        "print(len(New_Colunm))"
      ],
      "execution_count": 11,
      "outputs": [
        {
          "output_type": "stream",
          "text": [
            "124\n"
          ],
          "name": "stdout"
        }
      ]
    },
    {
      "cell_type": "code",
      "metadata": {
        "id": "MukX2r3ys3tm",
        "colab_type": "code",
        "colab": {}
      },
      "source": [
        "# Find the list elements starting with specific letter\n",
        "subs = 'B'\n",
        "Buraco = [x for x in img_name if re.search(subs, x)] \n",
        "subs = 'G'\n",
        "Grao = [x for x in img_name if re.search(subs, x)] \n",
        "subs = 'I'\n",
        "Indef = [x for x in img_name if re.search(subs, x)] "
      ],
      "execution_count": 0,
      "outputs": []
    },
    {
      "cell_type": "code",
      "metadata": {
        "id": "U2ymyUPFiADf",
        "colab_type": "code",
        "colab": {}
      },
      "source": [
        "j=0\n",
        "cont=-1\n",
        "Posicao_Buraco=[]\n",
        "for i in img_name:\n",
        "  cont=cont+1\n",
        "  for k in Buraco:\n",
        "    if(i==k):\n",
        "      Posicao_Buraco.append(cont)\n",
        "j=0\n",
        "cont=-1\n",
        "Posicao_Grao=[]\n",
        "for i in img_name:\n",
        "  cont=cont+1\n",
        "  for k in Grao:\n",
        "    if(i==k):\n",
        "      Posicao_Grao.append(cont)\n",
        "\n",
        "j=0\n",
        "cont=-1\n",
        "Posicao_Indef=[]\n",
        "for i in img_name:\n",
        "  cont=cont+1\n",
        "  for k in Indef:\n",
        "    if(i==k):\n",
        "      Posicao_Indef.append(cont)\n",
        "\n",
        "# print(Posicao_Grao)\n",
        "# print(Posicao_Buraco)\n",
        "# print(Posicao_Indef)\n"
      ],
      "execution_count": 0,
      "outputs": []
    },
    {
      "cell_type": "code",
      "metadata": {
        "id": "23vdxpKHZEzN",
        "colab_type": "code",
        "outputId": "d12cbe61-d24c-4ec9-a5da-60e7fa100d8a",
        "colab": {
          "base_uri": "https://localhost:8080/",
          "height": 90
        }
      },
      "source": [
        "print(np.asarray(New_Colunm)[Posicao_Buraco])"
      ],
      "execution_count": 14,
      "outputs": [
        {
          "output_type": "stream",
          "text": [
            "[0.4125 0.41   0.4225 0.4825 0.53   0.49   0.38   0.405  0.4125 0.41\n",
            " 0.51   0.525  0.44   0.435  0.5125 0.39   0.565  0.5075 0.485  0.4825\n",
            " 0.3625 0.375  0.355  0.4075 0.405  0.465  0.4575 0.4725 0.4825 0.4375\n",
            " 0.33   0.5625 0.33   0.3675 0.41   0.5    0.53   0.4875 0.47   0.54  ]\n"
          ],
          "name": "stdout"
        }
      ]
    },
    {
      "cell_type": "code",
      "metadata": {
        "id": "9fPIt0WQfehg",
        "colab_type": "code",
        "colab": {}
      },
      "source": [
        "Nomes=['Color' ]\n",
        "matriz_x_b=np.asarray(New_Colunm)[Posicao_Buraco]\n",
        "df_buraco=pd.DataFrame(matriz_x_b,columns=Nomes) # print(df_buraco.head())\n",
        "matriz_x_g=np.asarray(New_Colunm)[Posicao_Grao]\n",
        "df_grao=pd.DataFrame(matriz_x_g,columns=Nomes)  # print(df_grao.head())\n",
        "matriz_x_i=np.asarray(New_Colunm)[Posicao_Indef]\n",
        "df_indef=pd.DataFrame(matriz_x_i,columns=Nomes) # print(df_indef.head())\n",
        "#print(df_buraco)\n",
        "#print(df_grao)\n",
        "#print(df_indef)"
      ],
      "execution_count": 0,
      "outputs": []
    },
    {
      "cell_type": "code",
      "metadata": {
        "id": "LxIrsxxQheWI",
        "colab_type": "code",
        "colab": {
          "base_uri": "https://localhost:8080/",
          "height": 126
        },
        "outputId": "8e656633-98a5-4de6-9e57-eacc28063b43"
      },
      "source": [
        "df_grao.insert(0, \"Type\", \"grao\") \n",
        "print(df_grao.head())"
      ],
      "execution_count": 16,
      "outputs": [
        {
          "output_type": "stream",
          "text": [
            "   Type   Color\n",
            "0  grao  0.5300\n",
            "1  grao  0.5775\n",
            "2  grao  0.4675\n",
            "3  grao  0.4675\n",
            "4  grao  0.5000\n"
          ],
          "name": "stdout"
        }
      ]
    },
    {
      "cell_type": "code",
      "metadata": {
        "id": "vC8z3p0PiBvl",
        "colab_type": "code",
        "colab": {
          "base_uri": "https://localhost:8080/",
          "height": 126
        },
        "outputId": "fdcc2d65-0c35-401e-eaef-a1a8530d0594"
      },
      "source": [
        "df_indef.insert(0, \"Type\", \"indef\") \n",
        "print(df_indef.head())\n"
      ],
      "execution_count": 17,
      "outputs": [
        {
          "output_type": "stream",
          "text": [
            "    Type   Color\n",
            "0  indef  0.4950\n",
            "1  indef  0.5525\n",
            "2  indef  0.4800\n",
            "3  indef  0.5275\n",
            "4  indef  0.4325\n"
          ],
          "name": "stdout"
        }
      ]
    },
    {
      "cell_type": "code",
      "metadata": {
        "id": "Sn3PtvEViCft",
        "colab_type": "code",
        "colab": {
          "base_uri": "https://localhost:8080/",
          "height": 126
        },
        "outputId": "9e44e048-07bb-4c1e-fdf9-a8481afc38b2"
      },
      "source": [
        "df_buraco.insert(0, \"Type\", \"buraco\") \n",
        "print(df_buraco.head())"
      ],
      "execution_count": 18,
      "outputs": [
        {
          "output_type": "stream",
          "text": [
            "     Type   Color\n",
            "0  buraco  0.4125\n",
            "1  buraco  0.4100\n",
            "2  buraco  0.4225\n",
            "3  buraco  0.4825\n",
            "4  buraco  0.5300\n"
          ],
          "name": "stdout"
        }
      ]
    }
  ]
}