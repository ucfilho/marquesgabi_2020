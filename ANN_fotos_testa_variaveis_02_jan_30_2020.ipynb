{
  "nbformat": 4,
  "nbformat_minor": 0,
  "metadata": {
    "colab": {
      "name": "ANN_fotos_testa_variaveis_02_jan_30_2020.ipynb",
      "provenance": [],
      "collapsed_sections": [],
      "include_colab_link": true
    },
    "kernelspec": {
      "name": "python3",
      "display_name": "Python 3"
    }
  },
  "cells": [
    {
      "cell_type": "markdown",
      "metadata": {
        "id": "view-in-github",
        "colab_type": "text"
      },
      "source": [
        "<a href=\"https://colab.research.google.com/github/ucfilho/marquesgabi_2020/blob/master/ANN_fotos_testa_variaveis_02_jan_30_2020.ipynb\" target=\"_parent\"><img src=\"https://colab.research.google.com/assets/colab-badge.svg\" alt=\"Open In Colab\"/></a>"
      ]
    },
    {
      "cell_type": "code",
      "metadata": {
        "id": "uPzMNtMQeqs-",
        "colab_type": "code",
        "colab": {}
      },
      "source": [
        "from sklearn.model_selection import train_test_split\n",
        "import numpy as np\n",
        "import cv2\n",
        "import math\n",
        "import pandas as pd\n",
        "from sklearn.neural_network import MLPRegressor\n",
        "from sklearn.neural_network import MLPClassifier\n",
        "from sklearn.metrics import mean_squared_error\n",
        "from sklearn.metrics import r2_score \n",
        "from mpl_toolkits.mplot3d import Axes3D, axes3d\n",
        "from sklearn.metrics import classification_report, confusion_matrix\n",
        "import matplotlib.pyplot as plt\n",
        "import matplotlib\n",
        "%matplotlib inline"
      ],
      "execution_count": 0,
      "outputs": []
    },
    {
      "cell_type": "code",
      "metadata": {
        "id": "OqImBAP-3H6M",
        "colab_type": "code",
        "colab": {}
      },
      "source": [
        "#@title Digite os parametros { run: \"auto\", vertical-output: true }\n",
        "#@markdown Enter neurons hidden layer\n",
        "N_Hidden=18  #@param {type:\"number\"}\n",
        "#@markdown Activation function\n",
        "\n",
        "Ativa='logistic'#@param [\"tanh\", \"identity\", \"logistic\",\"relu\"] {allow-input: true}"
      ],
      "execution_count": 0,
      "outputs": []
    },
    {
      "cell_type": "code",
      "metadata": {
        "id": "4vZxttY2XZ2e",
        "colab_type": "code",
        "colab": {}
      },
      "source": [
        "# funcao normatiza dados\n",
        "def Normatiza(x):\n",
        "    strings=list(x)\n",
        "    for i in strings:\n",
        "        max_x=x[i].max()\n",
        "        min_x=x[i].min()\n",
        "        a=(max_x+min_x)/2\n",
        "        b=(max_x-min_x)/2\n",
        "        x[i]=(x[i]-a)/b\n",
        "    return x"
      ],
      "execution_count": 0,
      "outputs": []
    },
    {
      "cell_type": "code",
      "metadata": {
        "id": "quDi173pXomN",
        "colab_type": "code",
        "colab": {}
      },
      "source": [
        "# funcao retorna os dados a forma original\n",
        "def Original(x,x_old):\n",
        "    strings=list(x)\n",
        "    for i in strings:\n",
        "        max_x=x_old[i].max()\n",
        "        min_x=x_old[i].min()\n",
        "        a=(max_x+min_x)/2\n",
        "        b=(max_x-min_x)/2\n",
        "        x[i]=x[i]*b+a\n",
        "    return x"
      ],
      "execution_count": 0,
      "outputs": []
    },
    {
      "cell_type": "code",
      "metadata": {
        "id": "o4y_z_-ge57N",
        "colab_type": "code",
        "outputId": "c6684e69-e7a7-4168-9e3d-92686dcdbba6",
        "colab": {
          "base_uri": "https://localhost:8080/",
          "height": 217
        }
      },
      "source": [
        "!wget http://ftp.feq.ufu.br/ubirajara/Fotos_Treina_ANN_dez_2019.csv\n",
        "Transfere='Fotos_Treina_ANN_dez_2019.csv'"
      ],
      "execution_count": 5,
      "outputs": [
        {
          "output_type": "stream",
          "text": [
            "--2020-01-30 15:03:26--  http://ftp.feq.ufu.br/ubirajara/Fotos_Treina_ANN_dez_2019.csv\n",
            "Resolving ftp.feq.ufu.br (ftp.feq.ufu.br)... 200.19.144.11\n",
            "Connecting to ftp.feq.ufu.br (ftp.feq.ufu.br)|200.19.144.11|:80... connected.\n",
            "HTTP request sent, awaiting response... 200 OK\n",
            "Length: 21508 (21K) [text/csv]\n",
            "Saving to: ‘Fotos_Treina_ANN_dez_2019.csv.2’\n",
            "\n",
            "Fotos_Treina_ANN_de 100%[===================>]  21.00K  30.2KB/s    in 0.7s    \n",
            "\n",
            "2020-01-30 15:03:27 (30.2 KB/s) - ‘Fotos_Treina_ANN_dez_2019.csv.2’ saved [21508/21508]\n",
            "\n"
          ],
          "name": "stdout"
        }
      ]
    },
    {
      "cell_type": "code",
      "metadata": {
        "id": "CXcnYD9ltm0Z",
        "colab_type": "code",
        "colab": {
          "base_uri": "https://localhost:8080/",
          "height": 217
        },
        "outputId": "550598f2-1279-4313-e954-635e21df9fbe"
      },
      "source": [
        "!wget http://ftp.feq.ufu.br/ubirajara/New_Feature_Cor_ANN_jan_2020.csv\n",
        "Transfere_Cor='New_Feature_Cor_ANN_jan_2020.csv'"
      ],
      "execution_count": 6,
      "outputs": [
        {
          "output_type": "stream",
          "text": [
            "--2020-01-30 15:03:28--  http://ftp.feq.ufu.br/ubirajara/New_Feature_Cor_ANN_jan_2020.csv\n",
            "Resolving ftp.feq.ufu.br (ftp.feq.ufu.br)... 200.19.144.11\n",
            "Connecting to ftp.feq.ufu.br (ftp.feq.ufu.br)|200.19.144.11|:80... connected.\n",
            "HTTP request sent, awaiting response... 200 OK\n",
            "Length: 1807 (1.8K) [text/csv]\n",
            "Saving to: ‘New_Feature_Cor_ANN_jan_2020.csv.2’\n",
            "\n",
            "\r          New_Featu   0%[                    ]       0  --.-KB/s               \rNew_Feature_Cor_ANN 100%[===================>]   1.76K  --.-KB/s    in 0s      \n",
            "\n",
            "2020-01-30 15:03:29 (243 MB/s) - ‘New_Feature_Cor_ANN_jan_2020.csv.2’ saved [1807/1807]\n",
            "\n"
          ],
          "name": "stdout"
        }
      ]
    },
    {
      "cell_type": "code",
      "metadata": {
        "id": "es7O1fUjfK2o",
        "colab_type": "code",
        "colab": {}
      },
      "source": [
        "df= pd.read_csv(Transfere) \n",
        "df_cor= pd.read_csv(Transfere_Cor) "
      ],
      "execution_count": 0,
      "outputs": []
    },
    {
      "cell_type": "code",
      "metadata": {
        "id": "R96lmVvPuUu8",
        "colab_type": "code",
        "colab": {
          "base_uri": "https://localhost:8080/",
          "height": 272
        },
        "outputId": "88655e1e-a481-48d7-99e8-4fcbfc88f7cf"
      },
      "source": [
        "df['Color']=df_cor['Color']\n",
        "print(df)"
      ],
      "execution_count": 8,
      "outputs": [
        {
          "output_type": "stream",
          "text": [
            "     Unnamed: 0    Type  no.peaks  ...       Mean         Sd   Color\n",
            "0             0  buraco       4.0  ...  18.934430  21.464729  0.4125\n",
            "1             1  buraco       2.0  ...   8.392858  10.178723  0.4100\n",
            "2             2  buraco       2.0  ...  10.898776  14.800251  0.4225\n",
            "3             3  buraco       4.0  ...  77.750603  45.762334  0.4825\n",
            "4             4  buraco       6.0  ...   8.154355   8.389805  0.5300\n",
            "..          ...     ...       ...  ...        ...        ...     ...\n",
            "115          35   indef       5.0  ...  15.704080  13.003255  0.4100\n",
            "116          36   indef       2.0  ...  17.636505  14.887942  0.4350\n",
            "117          37   indef       7.0  ...   5.432188   2.764440  0.5050\n",
            "118          38   indef       4.0  ...   1.475860   0.597342  0.5325\n",
            "119          39   indef       4.0  ...   2.133803   1.007575  0.4600\n",
            "\n",
            "[120 rows x 13 columns]\n"
          ],
          "name": "stdout"
        }
      ]
    },
    {
      "cell_type": "code",
      "metadata": {
        "id": "M8v9ifqVunZh",
        "colab_type": "code",
        "colab": {}
      },
      "source": [
        ""
      ],
      "execution_count": 0,
      "outputs": []
    },
    {
      "cell_type": "code",
      "metadata": {
        "id": "pGiKBg17CYAw",
        "colab_type": "code",
        "outputId": "d89888d7-26c9-41d9-ba48-7845a4f9539a",
        "colab": {
          "base_uri": "https://localhost:8080/",
          "height": 90
        }
      },
      "source": [
        "pd.set_option('display.max_columns', None)  \n",
        "pd.set_option('display.expand_frame_repr', False)\n",
        "pd.set_option('max_colwidth', -1)\n",
        "print(df.columns)"
      ],
      "execution_count": 9,
      "outputs": [
        {
          "output_type": "stream",
          "text": [
            "Index(['Unnamed: 0', 'Type', 'no.peaks', 'Media_proem', 'area under',\n",
            "       'Width_peaks', 'Width_peaks_max', 'Width_peaks_min', 'Median', 'Mode',\n",
            "       'Mean', 'Sd', 'Color'],\n",
            "      dtype='object')\n"
          ],
          "name": "stdout"
        }
      ]
    },
    {
      "cell_type": "code",
      "metadata": {
        "id": "cytkRXeDgL7P",
        "colab_type": "code",
        "colab": {}
      },
      "source": [
        "df['Type'] = df['Type'].map({'buraco':1, 'grao':2, 'indef':3}) "
      ],
      "execution_count": 0,
      "outputs": []
    },
    {
      "cell_type": "code",
      "metadata": {
        "id": "1gVOPf_LhXhb",
        "colab_type": "code",
        "outputId": "ce98057f-46ed-46b4-f6ec-9f847777d846",
        "colab": {
          "base_uri": "https://localhost:8080/",
          "height": 235
        }
      },
      "source": [
        "Colunms=['no.peaks', 'Media_proem', 'area under','Width_peaks',\n",
        "         'Median', 'Mode',\n",
        "         'Mean', 'Sd','Color']\n",
        "#X=df.iloc[:,2:12]\n",
        "#y=df.iloc[:,1].astype(int)\n",
        "X=df[Colunms]\n",
        "#y=df['Type'].astype(int)\n",
        "y=df['Type']\n",
        "print(y)"
      ],
      "execution_count": 11,
      "outputs": [
        {
          "output_type": "stream",
          "text": [
            "0      1\n",
            "1      1\n",
            "2      1\n",
            "3      1\n",
            "4      1\n",
            "      ..\n",
            "115    3\n",
            "116    3\n",
            "117    3\n",
            "118    3\n",
            "119    3\n",
            "Name: Type, Length: 120, dtype: int64\n"
          ],
          "name": "stdout"
        }
      ]
    },
    {
      "cell_type": "code",
      "metadata": {
        "id": "dZbTaHhkGqWJ",
        "colab_type": "code",
        "outputId": "2e0d8c40-804b-4e05-cba5-f4f083d46444",
        "colab": {
          "base_uri": "https://localhost:8080/",
          "height": 126
        }
      },
      "source": [
        "print(df.head())"
      ],
      "execution_count": 12,
      "outputs": [
        {
          "output_type": "stream",
          "text": [
            "   Unnamed: 0  Type  no.peaks  Media_proem    area under  Width_peaks  Width_peaks_max  Width_peaks_min      Median      Mode       Mean         Sd   Color\n",
            "0  0           1     4.0       51.384595    2993.276979   38.492219    100.229477       0.616279         4.664086    1.576266  18.934430  21.464729  0.4125\n",
            "1  1           1     2.0       47.626771    1315.847022   28.334735    60.077800        1.577800         3.425990    1.186329  8.392858   10.178723  0.4100\n",
            "2  2           1     2.0       47.249986    1709.811993   35.353698    104.468318       1.018112         5.813794    1.019165  10.898776  14.800251  0.4225\n",
            "3  3           1     4.0       70.047513    12391.952111  87.710404    156.975006       1.441023         102.551759  6.722350  77.750603  45.762334  0.4825\n",
            "4  4           1     6.0       42.730606    1288.159588   30.966763    132.500000       0.508409         5.192788    1.336058  8.154355   8.389805   0.5300\n"
          ],
          "name": "stdout"
        }
      ]
    },
    {
      "cell_type": "code",
      "metadata": {
        "id": "q_R9MQraX2K_",
        "colab_type": "code",
        "outputId": "02ddbc34-9d59-4429-a29a-b436af298660",
        "colab": {
          "base_uri": "https://localhost:8080/",
          "height": 126
        }
      },
      "source": [
        "\n",
        "# separa os dados variaveis de entrada em normatizados e originais\n",
        "X_OLD=[]\n",
        "X_OLD=X.copy()\n",
        "X=Normatiza(X)\n",
        "#print(X)\n"
      ],
      "execution_count": 13,
      "outputs": [
        {
          "output_type": "stream",
          "text": [
            "/usr/local/lib/python3.6/dist-packages/ipykernel_launcher.py:8: SettingWithCopyWarning: \n",
            "A value is trying to be set on a copy of a slice from a DataFrame.\n",
            "Try using .loc[row_indexer,col_indexer] = value instead\n",
            "\n",
            "See the caveats in the documentation: http://pandas.pydata.org/pandas-docs/stable/user_guide/indexing.html#returning-a-view-versus-a-copy\n",
            "  \n"
          ],
          "name": "stderr"
        }
      ]
    },
    {
      "cell_type": "code",
      "metadata": {
        "id": "Zi9gBj86i0V_",
        "colab_type": "code",
        "colab": {}
      },
      "source": [
        "# Train Test Split\n",
        "X_train, X_test, y_train, y_test = train_test_split(X, y, test_size=0.20, \n",
        "                                                    random_state=25)"
      ],
      "execution_count": 0,
      "outputs": []
    },
    {
      "cell_type": "code",
      "metadata": {
        "id": "YoPO53S3bif2",
        "colab_type": "code",
        "colab": {}
      },
      "source": [
        "# define a rede neural \n",
        "#N_Hidden=(18,18,18)\n",
        "\n",
        "\n",
        "clf = MLPClassifier(solver='lbfgs',activation=Ativa,alpha=1e-5,\n",
        "                    hidden_layer_sizes=N_Hidden,random_state=0)\n"
      ],
      "execution_count": 0,
      "outputs": []
    },
    {
      "cell_type": "code",
      "metadata": {
        "id": "VCd7bGM8bm04",
        "colab_type": "code",
        "outputId": "9f9e4955-0059-4357-a5f5-618699ff3713",
        "colab": {
          "base_uri": "https://localhost:8080/",
          "height": 272
        }
      },
      "source": [
        "# treina a rede neural\n",
        "clf.fit(X_train, y_train)\n"
      ],
      "execution_count": 16,
      "outputs": [
        {
          "output_type": "stream",
          "text": [
            "/usr/local/lib/python3.6/dist-packages/sklearn/neural_network/_multilayer_perceptron.py:470: ConvergenceWarning: lbfgs failed to converge (status=1):\n",
            "STOP: TOTAL NO. of ITERATIONS REACHED LIMIT.\n",
            "\n",
            "Increase the number of iterations (max_iter) or scale the data as shown in:\n",
            "    https://scikit-learn.org/stable/modules/preprocessing.html\n",
            "  self.n_iter_ = _check_optimize_result(\"lbfgs\", opt_res, self.max_iter)\n"
          ],
          "name": "stderr"
        },
        {
          "output_type": "execute_result",
          "data": {
            "text/plain": [
              "MLPClassifier(activation='logistic', alpha=1e-05, batch_size='auto', beta_1=0.9,\n",
              "              beta_2=0.999, early_stopping=False, epsilon=1e-08,\n",
              "              hidden_layer_sizes=18, learning_rate='constant',\n",
              "              learning_rate_init=0.001, max_fun=15000, max_iter=200,\n",
              "              momentum=0.9, n_iter_no_change=10, nesterovs_momentum=True,\n",
              "              power_t=0.5, random_state=0, shuffle=True, solver='lbfgs',\n",
              "              tol=0.0001, validation_fraction=0.1, verbose=False,\n",
              "              warm_start=False)"
            ]
          },
          "metadata": {
            "tags": []
          },
          "execution_count": 16
        }
      ]
    },
    {
      "cell_type": "code",
      "metadata": {
        "id": "kSXYEWkmbu1p",
        "colab_type": "code",
        "colab": {}
      },
      "source": [
        "# usa a rede neural treina em calculos para treino e teste\n",
        "y_calc_train=clf.predict(X_train)\n",
        "y_pred=clf.predict(X_test)\n"
      ],
      "execution_count": 0,
      "outputs": []
    },
    {
      "cell_type": "code",
      "metadata": {
        "id": "yuJNYvbGcjVE",
        "colab_type": "code",
        "outputId": "1f2e3856-2039-422f-c2f8-8e78402d2944",
        "colab": {
          "base_uri": "https://localhost:8080/",
          "height": 254
        }
      },
      "source": [
        "# Evaluating the Algorithm\n",
        "print(confusion_matrix(y_pred, y_test))\n",
        "print(classification_report(y_pred, y_test))"
      ],
      "execution_count": 18,
      "outputs": [
        {
          "output_type": "stream",
          "text": [
            "[[3 0 0]\n",
            " [4 6 5]\n",
            " [1 2 3]]\n",
            "              precision    recall  f1-score   support\n",
            "\n",
            "           1       0.38      1.00      0.55         3\n",
            "           2       0.75      0.40      0.52        15\n",
            "           3       0.38      0.50      0.43         6\n",
            "\n",
            "    accuracy                           0.50        24\n",
            "   macro avg       0.50      0.63      0.50        24\n",
            "weighted avg       0.61      0.50      0.50        24\n",
            "\n"
          ],
          "name": "stdout"
        }
      ]
    },
    {
      "cell_type": "markdown",
      "metadata": {
        "id": "Fzmsl4clwqy1",
        "colab_type": "text"
      },
      "source": [
        ""
      ]
    },
    {
      "cell_type": "code",
      "metadata": {
        "id": "uiNqfTz1Ipkp",
        "colab_type": "code",
        "outputId": "e8e42e29-01c0-4e48-f5ad-a46096f65aa5",
        "colab": {
          "base_uri": "https://localhost:8080/",
          "height": 55
        }
      },
      "source": [
        "'''\n",
        "[[5 4 2]\n",
        " [2 1 1]\n",
        " [1 3 5]]\n",
        "              precision    recall  f1-score   support\n",
        "\n",
        "           1       0.62      0.45      0.53        11\n",
        "           2       0.12      0.25      0.17         4\n",
        "           3       0.62      0.56      0.59         9\n",
        "\n",
        "    accuracy                           0.46        24\n",
        "   macro avg       0.46      0.42      0.43        24\n",
        "weighted avg       0.54      0.46      0.49        24\n",
        "'''"
      ],
      "execution_count": 19,
      "outputs": [
        {
          "output_type": "execute_result",
          "data": {
            "text/plain": [
              "'\\n[[5 4 2]\\n [2 1 1]\\n [1 3 5]]\\n              precision    recall  f1-score   support\\n\\n           1       0.62      0.45      0.53        11\\n           2       0.12      0.25      0.17         4\\n           3       0.62      0.56      0.59         9\\n\\n    accuracy                           0.46        24\\n   macro avg       0.46      0.42      0.43        24\\nweighted avg       0.54      0.46      0.49        24\\n'"
            ]
          },
          "metadata": {
            "tags": []
          },
          "execution_count": 19
        }
      ]
    },
    {
      "cell_type": "code",
      "metadata": {
        "id": "0_2coHl9nOW_",
        "colab_type": "code",
        "outputId": "8b454664-9cf6-4c7e-da3c-9f65216d67c2",
        "colab": {
          "base_uri": "https://localhost:8080/",
          "height": 35
        }
      },
      "source": [
        "print(y_pred)"
      ],
      "execution_count": 20,
      "outputs": [
        {
          "output_type": "stream",
          "text": [
            "[2 3 2 1 1 2 2 2 3 3 3 2 2 3 2 2 3 1 2 2 2 2 2 2]\n"
          ],
          "name": "stdout"
        }
      ]
    }
  ]
}