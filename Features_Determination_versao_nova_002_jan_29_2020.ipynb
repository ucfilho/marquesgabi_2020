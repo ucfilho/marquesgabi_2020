{
  "nbformat": 4,
  "nbformat_minor": 0,
  "metadata": {
    "colab": {
      "name": "Features_Determination_versao_nova_002_jan_29_2020.ipynb",
      "provenance": [],
      "collapsed_sections": [],
      "include_colab_link": true
    },
    "kernelspec": {
      "name": "python3",
      "display_name": "Python 3"
    },
    "accelerator": "GPU"
  },
  "cells": [
    {
      "cell_type": "markdown",
      "metadata": {
        "id": "view-in-github",
        "colab_type": "text"
      },
      "source": [
        "<a href=\"https://colab.research.google.com/github/ucfilho/marquesgabi_2020/blob/master/Features_Determination_versao_nova_002_jan_29_2020.ipynb\" target=\"_parent\"><img src=\"https://colab.research.google.com/assets/colab-badge.svg\" alt=\"Open In Colab\"/></a>"
      ]
    },
    {
      "cell_type": "code",
      "metadata": {
        "id": "f393Z8HdEmRg",
        "colab_type": "code",
        "outputId": "68a0decd-a455-4a55-d2f4-46e906519a5e",
        "colab": {
          "base_uri": "https://localhost:8080/",
          "height": 74
        }
      },
      "source": [
        "!pip install mahotas"
      ],
      "execution_count": 1,
      "outputs": [
        {
          "output_type": "stream",
          "text": [
            "Requirement already satisfied: mahotas in /usr/local/lib/python3.6/dist-packages (1.4.9)\n",
            "Requirement already satisfied: numpy in /usr/local/lib/python3.6/dist-packages (from mahotas) (1.17.5)\n"
          ],
          "name": "stdout"
        }
      ]
    },
    {
      "cell_type": "code",
      "metadata": {
        "id": "W0wfLMP8nWAM",
        "colab_type": "code",
        "outputId": "dc852646-1a8a-47db-a2b1-c3c2613cf12f",
        "colab": {
          "base_uri": "https://localhost:8080/",
          "height": 54
        }
      },
      "source": [
        "\n",
        "!git clone https://github.com/ucfilho/marquesgabi #clonar do Github\n",
        "%cd marquesgabi"
      ],
      "execution_count": 2,
      "outputs": [
        {
          "output_type": "stream",
          "text": [
            "fatal: destination path 'marquesgabi' already exists and is not an empty directory.\n",
            "/content/marquesgabi\n"
          ],
          "name": "stdout"
        }
      ]
    },
    {
      "cell_type": "code",
      "metadata": {
        "id": "SzWdrvAgvBId",
        "colab_type": "code",
        "colab": {}
      },
      "source": [
        "import numpy as np\n",
        "import cv2\n",
        "from skimage import data\n",
        "import matplotlib.pyplot as plt\n",
        "import matplotlib\n",
        "import pandas as pd\n",
        "from skimage import io, util\n",
        "import mahotas.features.texture as mht\n",
        "import mahotas.features\n",
        "import os \n",
        "import zipfile\n",
        "from skimage import filters\n",
        "from skimage import exposure\n",
        "import skimage.feature as sk\n",
        "from google.colab import files\n",
        "from numpy import linalg as LA\n",
        "from scipy.signal import find_peaks\n",
        "from scipy.signal import peak_prominences\n",
        "from scipy.signal import peak_widths\n",
        "import re\n",
        "import Go2BlackWhite\n",
        "import Go2Mahotas\n",
        "%matplotlib inline"
      ],
      "execution_count": 0,
      "outputs": []
    },
    {
      "cell_type": "code",
      "metadata": {
        "id": "xoW1HoWp3qNO",
        "colab_type": "code",
        "colab": {}
      },
      "source": [
        "Size=20 # tamanho da foto\n",
        "Sub_Size=int(Size/5) # tamanho do fracionamento\n",
        "Row_Crop=1/2 # posicao do corte\n",
        "Crop=int(Size*Row_Crop)"
      ],
      "execution_count": 0,
      "outputs": []
    },
    {
      "cell_type": "code",
      "metadata": {
        "id": "h1Zsufcm9bfv",
        "colab_type": "code",
        "outputId": "280157c8-1f38-4777-a0ed-e6eaf8a6355a",
        "colab": {
          "base_uri": "https://localhost:8080/",
          "height": 218
        }
      },
      "source": [
        "!wget http://ftp.feq.ufu.br/ubirajara/GrBuInd.zip\n",
        "Transfere='GrBuInd.zip'"
      ],
      "execution_count": 5,
      "outputs": [
        {
          "output_type": "stream",
          "text": [
            "--2020-01-29 23:40:21--  http://ftp.feq.ufu.br/ubirajara/GrBuInd.zip\n",
            "Resolving ftp.feq.ufu.br (ftp.feq.ufu.br)... 200.19.144.11\n",
            "Connecting to ftp.feq.ufu.br (ftp.feq.ufu.br)|200.19.144.11|:80... connected.\n",
            "HTTP request sent, awaiting response... 200 OK\n",
            "Length: 497627 (486K) [application/zip]\n",
            "Saving to: ‘GrBuInd.zip.7’\n",
            "\n",
            "GrBuInd.zip.7       100%[===================>] 485.96K   435KB/s    in 1.1s    \n",
            "\n",
            "2020-01-29 23:40:23 (435 KB/s) - ‘GrBuInd.zip.7’ saved [497627/497627]\n",
            "\n"
          ],
          "name": "stdout"
        }
      ]
    },
    {
      "cell_type": "code",
      "metadata": {
        "id": "c43TnWalRs_H",
        "colab_type": "code",
        "colab": {}
      },
      "source": [
        "file_name = zipfile.ZipFile(Transfere, 'r')\n",
        "file_name.extractall()"
      ],
      "execution_count": 0,
      "outputs": []
    },
    {
      "cell_type": "code",
      "metadata": {
        "id": "GrLtSCRor_By",
        "colab_type": "code",
        "colab": {}
      },
      "source": [
        "# print(img_name)"
      ],
      "execution_count": 0,
      "outputs": []
    },
    {
      "cell_type": "code",
      "metadata": {
        "colab_type": "code",
        "id": "qCKcPafHsAuJ",
        "colab": {}
      },
      "source": [
        "# ww contain all photos in black and white\n",
        "ww,img_name=Go2BlackWhite.BlackWhite(Transfere,Size)\n",
        "# plt.axis(\"off\")\n",
        "# plt.imshow(ww[0], cmap = \"gray\")"
      ],
      "execution_count": 0,
      "outputs": []
    },
    {
      "cell_type": "code",
      "metadata": {
        "id": "Vi1KNBztICWH",
        "colab_type": "code",
        "outputId": "6cd0c146-98f6-4989-a408-7802c975c42b",
        "colab": {
          "base_uri": "https://localhost:8080/",
          "height": 35
        }
      },
      "source": [
        "print(np.mean(ww[0]))"
      ],
      "execution_count": 9,
      "outputs": [
        {
          "output_type": "stream",
          "text": [
            "134.1025\n"
          ],
          "name": "stdout"
        }
      ]
    },
    {
      "cell_type": "code",
      "metadata": {
        "id": "pMJdA-nxIpQO",
        "colab_type": "code",
        "outputId": "10cbdb5f-e7cb-4e99-b876-dea2522ae15c",
        "colab": {
          "base_uri": "https://localhost:8080/",
          "height": 55
        }
      },
      "source": [
        "Num,Row,Col=np.asarray(ww).shape\n",
        "Idx=[]\n",
        "New_Colunm=[]\n",
        "\n",
        "for i in range(Num):\n",
        "  Media=np.mean(ww[0])\n",
        "  k=np.where(ww[i].ravel() > Media)\n",
        "  Idx.append(np.asarray(k).ravel())\n",
        "\n",
        "Quant=Size*Size\n",
        "for i in Idx:\n",
        "  #print(i)\n",
        "  New_Colunm.append(len(i)/Quant)\n",
        "print(New_Colunm)"
      ],
      "execution_count": 10,
      "outputs": [
        {
          "output_type": "stream",
          "text": [
            "[0.5825, 0.265, 0.655, 0.23, 0.0475, 0.05, 0.91, 0.1825, 0.305, 0.9875, 0.3625, 0.825, 0.8425, 0.9075, 0.465, 0.925, 0.8575, 0.255, 0.2675, 0.9575, 0.92, 0.485, 0.8225, 0.6875, 0.495, 0.9925, 0.97, 0.9625, 0.5925, 0.755, 0.7825, 0.5525, 0.4325, 0.585, 0.125, 0.2625, 0.6825, 0.95, 0.9, 0.2275, 0.375, 0.8825, 0.725, 0.1775, 0.63, 0.4, 0.9525, 0.785, 0.9075, 0.885, 0.5775, 0.895, 0.905, 0.935, 0.655, 0.49, 0.8725, 0.265, 0.95, 0.815, 0.8675, 0.9075, 0.5775, 0.13, 0.235, 0.465, 0.93, 0.945, 0.66, 0.8775, 0.7425, 0.135, 0.1575, 0.35, 0.9925, 0.9425, 0.8275, 0.54, 0.975, 0.4925, 0.3775, 0.2775, 0.7375, 0.4675, 0.3475, 0.8, 0.635, 0.9925, 0.9, 0.99, 0.9625, 0.59, 0.795, 0.4825, 0.0475, 0.595, 0.085, 0.0175, 0.48, 0.675, 0.53, 0.1775, 0.1925, 0.08, 0.2825, 0.1925, 0.865, 0.4825, 0.7175, 0.195, 0.9175, 0.2125, 0.955, 0.5275, 0.425, 0.4375, 0.43, 0.62, 0.9625, 0.2075, 0.935, 0.63, 0.675, 0.9325]\n"
          ],
          "name": "stdout"
        }
      ]
    },
    {
      "cell_type": "code",
      "metadata": {
        "id": "MukX2r3ys3tm",
        "colab_type": "code",
        "colab": {}
      },
      "source": [
        "# Find the list elements starting with specific letter\n",
        "subs = 'B'\n",
        "Buraco = [x for x in img_name if re.search(subs, x)] \n",
        "subs = 'G'\n",
        "Grao = [x for x in img_name if re.search(subs, x)] \n",
        "subs = 'I'\n",
        "Indef = [x for x in img_name if re.search(subs, x)] "
      ],
      "execution_count": 0,
      "outputs": []
    },
    {
      "cell_type": "code",
      "metadata": {
        "id": "WkQzQVXn3k42",
        "colab_type": "code",
        "colab": {
          "base_uri": "https://localhost:8080/",
          "height": 383
        },
        "outputId": "5c949647-34c3-491a-c7df-44b48c20da9c"
      },
      "source": [
        "# find df texture for a given picture\n",
        "df=Go2Mahotas.Mahotas(ww[0],Size,Sub_Size,Crop,img_name)\n",
        "print(df)"
      ],
      "execution_count": 12,
      "outputs": [
        {
          "output_type": "stream",
          "text": [
            "         ASM    constrast    correl  ...  dif entropy      IMC1      IMC2\n",
            "0   0.061632  6944.534722  0.369340  ...     3.236717 -0.791553  0.997921\n",
            "1   0.048611  4261.979167  0.038173  ...     3.278384 -0.855280  0.999272\n",
            "2   0.048611  1743.333333  0.182779  ...     3.196888 -0.855280  0.999272\n",
            "3   0.048611  1469.895833 -0.001624  ...     3.071888 -0.855280  0.999272\n",
            "4   0.048611  1450.479167  0.065797  ...     3.294110 -0.831492  0.998989\n",
            "5   0.049479  1437.298611 -0.020173  ...     3.182999 -0.824276  0.998878\n",
            "6   0.049479  1596.666667 -0.169023  ...     3.280222 -0.773185  0.997900\n",
            "7   0.051022  1228.430556 -0.019456  ...     3.224666 -0.756854  0.997391\n",
            "8   0.051022  1076.590278  0.139392  ...     3.266333 -0.726133  0.996354\n",
            "9   0.050154  1741.881944  0.000208  ...     3.377444 -0.768026  0.997761\n",
            "10  0.048611  2105.875000 -0.043431  ...     3.335777 -0.787909  0.998133\n",
            "11  0.050347  2192.527778 -0.081103  ...     3.238555 -0.800205  0.998410\n",
            "12  0.048611  2261.958333 -0.192695  ...     3.182999 -0.820418  0.998855\n",
            "13  0.048611  4150.048611 -0.242674  ...     3.280222 -0.855280  0.999272\n",
            "14  0.048611  5116.250000 -0.201177  ...     3.335777 -0.855280  0.999272\n",
            "15  0.050347  5417.375000 -0.260575  ...     3.294110 -0.842447  0.999074\n",
            "16  0.063368  6221.319444  0.059716  ...     3.236717 -0.775883  0.997401\n",
            "\n",
            "[17 rows x 13 columns]\n"
          ],
          "name": "stdout"
        }
      ]
    },
    {
      "cell_type": "code",
      "metadata": {
        "id": "P4XVtqp4HGIs",
        "colab_type": "code",
        "colab": {
          "base_uri": "https://localhost:8080/",
          "height": 35
        },
        "outputId": "d031a811-f982-4a5e-8852-78f4c0f7449c"
      },
      "source": [
        "\n",
        "print(len(New_Colunm))"
      ],
      "execution_count": 13,
      "outputs": [
        {
          "output_type": "stream",
          "text": [
            "124\n"
          ],
          "name": "stdout"
        }
      ]
    },
    {
      "cell_type": "code",
      "metadata": {
        "id": "U2ymyUPFiADf",
        "colab_type": "code",
        "colab": {}
      },
      "source": [
        "j=0\n",
        "cont=-1\n",
        "Posicao_Buraco=[]\n",
        "for i in img_name:\n",
        "  cont=cont+1\n",
        "  for k in Buraco:\n",
        "    if(i==k):\n",
        "      Posicao_Buraco.append(cont)\n",
        "j=0\n",
        "cont=-1\n",
        "Posicao_Grao=[]\n",
        "for i in img_name:\n",
        "  cont=cont+1\n",
        "  for k in Grao:\n",
        "    if(i==k):\n",
        "      Posicao_Grao.append(cont)\n",
        "\n",
        "j=0\n",
        "cont=-1\n",
        "Posicao_Indef=[]\n",
        "for i in img_name:\n",
        "  cont=cont+1\n",
        "  for k in Indef:\n",
        "    if(i==k):\n",
        "      Posicao_Indef.append(cont)\n",
        "\n",
        "# print(Posicao_Grao)\n",
        "# print(Posicao_Buraco)\n",
        "# print(Posicao_Indef)\n"
      ],
      "execution_count": 0,
      "outputs": []
    },
    {
      "cell_type": "code",
      "metadata": {
        "id": "23vdxpKHZEzN",
        "colab_type": "code",
        "colab": {
          "base_uri": "https://localhost:8080/",
          "height": 90
        },
        "outputId": "2a9bb087-3842-46de-8f0b-5b1df996e853"
      },
      "source": [
        "print(np.asarray(New_Colunm)[Posicao_Buraco])"
      ],
      "execution_count": 15,
      "outputs": [
        {
          "output_type": "stream",
          "text": [
            "[0.265  0.655  0.23   0.0475 0.05   0.91   0.1825 0.305  0.9875 0.3625\n",
            " 0.4325 0.585  0.125  0.2625 0.6825 0.95   0.9    0.2275 0.375  0.8825\n",
            " 0.13   0.235  0.465  0.93   0.945  0.66   0.8775 0.7425 0.135  0.1575\n",
            " 0.0475 0.595  0.085  0.0175 0.48   0.675  0.53   0.1775 0.1925 0.08  ]\n"
          ],
          "name": "stdout"
        }
      ]
    },
    {
      "cell_type": "code",
      "metadata": {
        "id": "aNTlSGubnL3P",
        "colab_type": "code",
        "colab": {}
      },
      "source": [
        "# compara constrast dos tres primeiros buracos\n",
        "Num=len(Posicao_Buraco)\n",
        "Matriz_X_Buraco=[]\n",
        "#Efeito_escuro=[]\n",
        "#Num=3\n",
        "for i in range(Num):\n",
        "  k=Posicao_Buraco[i]\n",
        "  df=Go2Mahotas.Mahotas(ww[k],Size,Sub_Size,Crop,img_name)\n",
        "  Matriz_X_Buraco.append(np.array(df['constrast']).ravel())\n",
        "Contraste_Buraco=pd.DataFrame(Matriz_X_Buraco)"
      ],
      "execution_count": 0,
      "outputs": []
    },
    {
      "cell_type": "code",
      "metadata": {
        "id": "q-3MXzSkZvh7",
        "colab_type": "code",
        "colab": {
          "base_uri": "https://localhost:8080/",
          "height": 803
        },
        "outputId": "8a4bef52-ea5d-449f-bec7-66128e342c86"
      },
      "source": [
        "Row,Col=Contraste_Buraco.shape\n",
        "New=np.asarray(New_Colunm)[Posicao_Buraco]\n",
        "#Matriz_New = np.hstack(Matriz_X_Buraco,New)\n",
        "#print(Matriz_New)\n",
        "Contraste_Buraco=pd.DataFrame(Matriz_X_Buraco)\n",
        "Contraste_Buraco[Col]=New\n",
        "print(Contraste_Buraco)"
      ],
      "execution_count": 17,
      "outputs": [
        {
          "output_type": "stream",
          "text": [
            "             0            1            2   ...           15           16      17\n",
            "0    289.777778   253.722222   282.965278  ...    77.819444    62.166667  0.2650\n",
            "1    280.250000   140.520833    36.500000  ...    46.013889    53.847222  0.6550\n",
            "2     61.888889    55.472222    46.937500  ...   265.451389   458.125000  0.2300\n",
            "3    927.027778   723.388889   385.076389  ...   554.312500  1048.965278  0.0475\n",
            "4   1618.798611  1373.083333   775.562500  ...   608.069444   622.652778  0.0500\n",
            "5     93.312500    63.951389    11.368056  ...   316.034722   229.923611  0.9100\n",
            "6   1649.951389   362.715278    60.062500  ...    16.645833    62.284722  0.1825\n",
            "7    168.173611    54.381944    63.979167  ...  2706.055556  1403.770833  0.3050\n",
            "8    495.055556   422.173611    70.861111  ...   101.090278   148.416667  0.9875\n",
            "9   1558.736111   937.083333   311.840278  ...   694.777778  1224.319444  0.3625\n",
            "10   589.472222   605.000000   339.979167  ...   173.986111   248.027778  0.4325\n",
            "11   392.013889   244.861111   164.409722  ...   507.972222   422.111111  0.5850\n",
            "12    90.083333    76.840278    64.423611  ...   133.076389    66.784722  0.1250\n",
            "13   121.020833   108.548611   195.583333  ...    29.340278    53.625000  0.2625\n",
            "14  4320.458333  4251.277778   480.743056  ...   942.090278   576.166667  0.6825\n",
            "15    84.041667    96.131944   238.868056  ...    45.347222    61.062500  0.9500\n",
            "16    25.041667    20.805556    25.222222  ...    92.319444    52.645833  0.9000\n",
            "17  1633.645833  2854.041667  3742.527778  ...    51.437500    25.798611  0.2275\n",
            "18   392.006944   250.729167    99.534722  ...    46.180556    47.263889  0.3750\n",
            "19   760.118056   854.048611   783.979167  ...    80.125000    56.701389  0.8825\n",
            "20    86.381944    33.951389    38.708333  ...   170.965278   386.263889  0.1300\n",
            "21  3018.222222  2514.243056   401.194444  ...    13.694444    63.555556  0.2350\n",
            "22   495.694444  1362.250000  2364.645833  ...  1034.493056  1136.750000  0.4650\n",
            "23   853.173611   820.659722   331.736111  ...   696.770833   942.048611  0.9300\n",
            "24    99.027778    24.048611    23.770833  ...   199.861111   311.388889  0.9450\n",
            "25    40.430556    61.694444    72.145833  ...   605.194444   568.166667  0.6600\n",
            "26   185.562500    74.027778    70.777778  ...   616.111111   843.270833  0.8775\n",
            "27    51.375000    90.263889    97.902778  ...   396.951389   721.729167  0.7425\n",
            "28    56.250000   492.604167   514.986111  ...    34.486111     9.034722  0.1350\n",
            "29     6.083333     9.562500    16.548611  ...   175.597222    66.187500  0.1575\n",
            "30  4786.263889  2087.569444   332.909722  ...    62.826389   263.951389  0.0475\n",
            "31   137.513889   585.659722   631.812500  ...   653.840278   423.118056  0.5950\n",
            "32   412.472222   419.298611   182.395833  ...   376.562500   108.541667  0.0850\n",
            "33   774.347222   751.798611   167.472222  ...     7.722222    46.159722  0.0175\n",
            "34   677.486111   524.937500   267.055556  ...   486.326389  2756.958333  0.4800\n",
            "35  1238.937500  1221.180556   317.951389  ...    76.888889    71.881944  0.6750\n",
            "36   783.243056   633.381944   406.090278  ...    28.541667    26.979167  0.5300\n",
            "37    10.513889     5.611111     6.416667  ...   443.354167   523.263889  0.1775\n",
            "38    94.569444   262.472222   899.041667  ...   571.263889   579.277778  0.1925\n",
            "39   178.138889   174.520833   166.180556  ...   112.333333     8.416667  0.0800\n",
            "\n",
            "[40 rows x 18 columns]\n"
          ],
          "name": "stdout"
        }
      ]
    },
    {
      "cell_type": "code",
      "metadata": {
        "id": "FKpqBGqMq0U2",
        "colab_type": "code",
        "colab": {}
      },
      "source": [
        "# compara constrast dos graos\n",
        "Num=len(Posicao_Grao)\n",
        "Matriz_X_Grao=[]\n",
        "for i in range(Num):\n",
        "  k=Posicao_Grao[i]\n",
        "  df=Go2Mahotas.Mahotas(ww[k],Size,Sub_Size,Crop,img_name)\n",
        "  Matriz_X_Grao.append(np.array(df['constrast']).ravel())\n",
        "\n",
        "Contraste_Grao=pd.DataFrame(Matriz_X_Grao)"
      ],
      "execution_count": 0,
      "outputs": []
    },
    {
      "cell_type": "code",
      "metadata": {
        "id": "O8C8T8vDbJwG",
        "colab_type": "code",
        "colab": {
          "base_uri": "https://localhost:8080/",
          "height": 803
        },
        "outputId": "84d3c9f1-4033-4385-f84a-2b6831cbcd80"
      },
      "source": [
        "Row,Col=Contraste_Buraco.shape\n",
        "New=np.asarray(New_Colunm)[Posicao_Grao]\n",
        "Contraste_Grao[Col]=New\n",
        "print(Contraste_Grao)"
      ],
      "execution_count": 19,
      "outputs": [
        {
          "output_type": "stream",
          "text": [
            "              0             1   ...            16      18\n",
            "0    2743.944444   3114.895833  ...   4459.625000  0.8250\n",
            "1    2098.861111   1051.875000  ...   1356.854167  0.8425\n",
            "2    4224.437500   1700.881944  ...   1261.777778  0.9075\n",
            "3   12058.722222  11564.805556  ...   4913.118056  0.4650\n",
            "4     633.826389    237.520833  ...   2494.805556  0.9250\n",
            "5     229.368056    302.333333  ...   1188.798611  0.8575\n",
            "6     321.513889   1770.805556  ...   1261.361111  0.2550\n",
            "7      84.125000     49.756944  ...  10276.041667  0.2675\n",
            "8    1920.173611   1644.618056  ...     87.340278  0.9575\n",
            "9    2311.541667   1923.861111  ...    989.743056  0.9200\n",
            "10    185.763889    200.229167  ...   1967.354167  0.7250\n",
            "11    995.138889    304.868056  ...   4159.201389  0.1775\n",
            "12    314.597222    290.472222  ...    245.083333  0.6300\n",
            "13   1894.236111   4636.131944  ...    428.819444  0.4000\n",
            "14   2018.375000   1670.187500  ...   1757.979167  0.9525\n",
            "15    540.770833    564.083333  ...   1032.881944  0.7850\n",
            "16    216.430556    127.034722  ...   2091.666667  0.9075\n",
            "17   2627.222222   2667.152778  ...   1494.006944  0.8850\n",
            "18    445.750000    466.812500  ...   1126.840278  0.5775\n",
            "19    333.861111    291.013889  ...    975.986111  0.8950\n",
            "20    891.993056    349.048611  ...   2270.840278  0.3500\n",
            "21    251.437500    266.666667  ...    187.812500  0.9925\n",
            "22    330.444444    351.333333  ...    109.625000  0.9425\n",
            "23    216.451389    276.381944  ...   1573.902778  0.8275\n",
            "24     88.319444     40.229167  ...   2318.006944  0.5400\n",
            "25    185.993056     74.722222  ...   1284.513889  0.9750\n",
            "26    733.347222    691.319444  ...   3917.895833  0.4925\n",
            "27   1125.930556   1023.277778  ...   9792.527778  0.3775\n",
            "28    209.965278     44.798611  ...    491.062500  0.2775\n",
            "29   2437.034722   2363.659722  ...   2426.381944  0.7375\n",
            "30   2357.965278    194.159722  ...   2458.284722  0.2825\n",
            "31    133.222222     52.965278  ...   1905.250000  0.1925\n",
            "32    107.055556     77.173611  ...   2715.083333  0.8650\n",
            "33   1316.805556    178.673611  ...     61.347222  0.4825\n",
            "34    119.687500    128.944444  ...   3848.479167  0.7175\n",
            "35   1379.708333   1445.194444  ...   4401.979167  0.1950\n",
            "36   1364.465278    298.555556  ...   6547.006944  0.9175\n",
            "37   1236.097222    881.520833  ...   4948.944444  0.2125\n",
            "38    414.715278    414.680556  ...   2494.173611  0.9550\n",
            "39    938.465278    722.763889  ...    365.083333  0.5275\n",
            "\n",
            "[40 rows x 18 columns]\n"
          ],
          "name": "stdout"
        }
      ]
    },
    {
      "cell_type": "code",
      "metadata": {
        "id": "uno28vfVq0lc",
        "colab_type": "code",
        "colab": {}
      },
      "source": [
        "# compara constrast dos indefinidos\n",
        "Num=len(Posicao_Indef)\n",
        "Matriz_X_Indef=[]\n",
        "for i in range(Num):\n",
        "  k=Posicao_Indef[i]\n",
        "  df=Go2Mahotas.Mahotas(ww[k],Size,Sub_Size,Crop,img_name)\n",
        "  Matriz_X_Indef.append(np.array(df['constrast']).ravel())\n",
        "\n",
        "Contraste_Indef=pd.DataFrame(Matriz_X_Indef)"
      ],
      "execution_count": 0,
      "outputs": []
    },
    {
      "cell_type": "code",
      "metadata": {
        "id": "7N4B7Iq-bcWd",
        "colab_type": "code",
        "colab": {
          "base_uri": "https://localhost:8080/",
          "height": 803
        },
        "outputId": "5010affa-5543-41d6-d753-b94110c9ed5b"
      },
      "source": [
        "Row,Col=Contraste_Indef.shape\n",
        "New=np.asarray(New_Colunm)[Posicao_Indef]\n",
        "Contraste_Indef[Col]=New\n",
        "print(Contraste_Indef)"
      ],
      "execution_count": 21,
      "outputs": [
        {
          "output_type": "stream",
          "text": [
            "             0            1            2   ...           15           16      17\n",
            "0     20.166667    23.270833    26.368056  ...   206.076389   138.583333  0.4850\n",
            "1    265.611111   668.256944  1316.118056  ...   705.479167   486.743056  0.8225\n",
            "2     51.326389    54.388889    58.298611  ...   165.944444   377.611111  0.6875\n",
            "3    724.527778   327.972222   195.597222  ...    27.222222    25.013889  0.4950\n",
            "4     54.888889    64.923611   115.534722  ...   136.472222   151.500000  0.9925\n",
            "5    832.194444   619.506944   403.111111  ...   775.284722   517.159722  0.9700\n",
            "6     69.902778    48.722222    44.305556  ...   177.326389   112.937500  0.9625\n",
            "7     60.881944   185.229167   414.500000  ...   109.034722    83.868056  0.5925\n",
            "8   4104.194444  4771.006944  4508.875000  ...   566.013889   701.979167  0.7550\n",
            "9    507.201389   460.888889   470.576389  ...    81.923611   319.291667  0.7825\n",
            "10   331.777778   261.750000   162.104167  ...    48.666667   106.458333  0.9050\n",
            "11   310.631944   222.840278    61.444444  ...    44.090278    48.166667  0.9350\n",
            "12   305.965278   279.895833   228.666667  ...   200.527778   149.493056  0.6550\n",
            "13   250.576389   577.041667   785.340278  ...    39.166667    15.979167  0.4900\n",
            "14    38.770833   104.381944   221.236111  ...   135.486111    95.229167  0.8725\n",
            "15    48.381944    32.569444    26.437500  ...   249.666667   269.173611  0.2650\n",
            "16   136.284722   122.159722   180.423611  ...   240.881944   219.229167  0.9500\n",
            "17   869.715278   951.875000   782.666667  ...   255.201389   591.736111  0.8150\n",
            "18   322.715278   376.812500   350.493056  ...    60.645833    51.673611  0.8675\n",
            "19  1084.722222   659.111111   140.930556  ...   312.069444   239.763889  0.9075\n",
            "20    25.729167    25.902778    41.708333  ...   166.472222   358.513889  0.4675\n",
            "21   288.222222   310.597222   336.645833  ...    39.402778    47.305556  0.3475\n",
            "22   713.986111   724.361111   496.972222  ...    72.694444   135.083333  0.8000\n",
            "23   522.062500   453.305556   381.493056  ...   506.159722   493.381944  0.6350\n",
            "24   858.854167   458.576389   455.152778  ...  2164.118056  2025.479167  0.9925\n",
            "25    67.229167    66.263889    53.180556  ...    21.756944    26.215278  0.9000\n",
            "26     1.250000     0.930556     0.729167  ...    14.555556    21.437500  0.9900\n",
            "27    29.631944    59.555556   350.222222  ...    25.604167    59.159722  0.9625\n",
            "28   809.805556   625.333333   517.548611  ...  2197.298611  4187.479167  0.5900\n",
            "29    99.666667   108.923611   156.166667  ...    89.673611   106.750000  0.7950\n",
            "30    74.458333    80.576389    82.909722  ...    25.486111    11.305556  0.4250\n",
            "31  1665.173611  1684.729167   213.180556  ...   543.187500  1116.472222  0.4375\n",
            "32   364.812500   283.118056   245.319444  ...  1308.840278  1636.659722  0.4300\n",
            "33    44.548611    38.618056    43.986111  ...    78.826389   160.694444  0.6200\n",
            "34   303.118056   328.854167   295.159722  ...    58.145833    92.506944  0.9625\n",
            "35  1740.166667  1060.597222   436.263889  ...  2490.215278  3710.298611  0.2075\n",
            "36   262.402778   207.250000   188.812500  ...    95.576389   124.131944  0.9350\n",
            "37   239.506944   245.590278   442.770833  ...   238.729167   216.722222  0.6300\n",
            "38    31.680556    47.833333    52.722222  ...    32.416667    24.965278  0.6750\n",
            "39    85.631944   108.590278   112.388889  ...    17.291667    23.687500  0.9325\n",
            "\n",
            "[40 rows x 18 columns]\n"
          ],
          "name": "stdout"
        }
      ]
    },
    {
      "cell_type": "code",
      "metadata": {
        "id": "EHSBh2ye9WV8",
        "colab_type": "code",
        "colab": {
          "base_uri": "https://localhost:8080/",
          "height": 163
        },
        "outputId": "a6a013c7-b2b2-401d-afe8-2401f6161caa"
      },
      "source": [
        "print(Contraste_Buraco.head())"
      ],
      "execution_count": 22,
      "outputs": [
        {
          "output_type": "stream",
          "text": [
            "            0            1           2   ...          15           16      17\n",
            "0   289.777778   253.722222  282.965278  ...   77.819444    62.166667  0.2650\n",
            "1   280.250000   140.520833   36.500000  ...   46.013889    53.847222  0.6550\n",
            "2    61.888889    55.472222   46.937500  ...  265.451389   458.125000  0.2300\n",
            "3   927.027778   723.388889  385.076389  ...  554.312500  1048.965278  0.0475\n",
            "4  1618.798611  1373.083333  775.562500  ...  608.069444   622.652778  0.0500\n",
            "\n",
            "[5 rows x 18 columns]\n"
          ],
          "name": "stdout"
        }
      ]
    },
    {
      "cell_type": "code",
      "metadata": {
        "id": "k5e1EwMAs84e",
        "colab_type": "code",
        "colab": {
          "base_uri": "https://localhost:8080/",
          "height": 163
        },
        "outputId": "398b70da-7aaa-4f95-c4d5-aad92ac344e9"
      },
      "source": [
        "print(Contraste_Grao.head())"
      ],
      "execution_count": 23,
      "outputs": [
        {
          "output_type": "stream",
          "text": [
            "             0             1             2   ...           15           16      18\n",
            "0   2743.944444   3114.895833   1978.513889  ...  3643.902778  4459.625000  0.8250\n",
            "1   2098.861111   1051.875000     46.020833  ...   450.937500  1356.854167  0.8425\n",
            "2   4224.437500   1700.881944    701.888889  ...   701.562500  1261.777778  0.9075\n",
            "3  12058.722222  11564.805556  10935.833333  ...  5227.048611  4913.118056  0.4650\n",
            "4    633.826389    237.520833     92.708333  ...  1470.791667  2494.805556  0.9250\n",
            "\n",
            "[5 rows x 18 columns]\n"
          ],
          "name": "stdout"
        }
      ]
    },
    {
      "cell_type": "code",
      "metadata": {
        "id": "3ehKvYQAs9TP",
        "colab_type": "code",
        "colab": {
          "base_uri": "https://localhost:8080/",
          "height": 163
        },
        "outputId": "d322cf9c-f51f-4bd8-fa90-2c9587dd976c"
      },
      "source": [
        "print(Contraste_Indef.head())"
      ],
      "execution_count": 24,
      "outputs": [
        {
          "output_type": "stream",
          "text": [
            "           0           1            2   ...          15          16      17\n",
            "0   20.166667   23.270833    26.368056  ...  206.076389  138.583333  0.4850\n",
            "1  265.611111  668.256944  1316.118056  ...  705.479167  486.743056  0.8225\n",
            "2   51.326389   54.388889    58.298611  ...  165.944444  377.611111  0.6875\n",
            "3  724.527778  327.972222   195.597222  ...   27.222222   25.013889  0.4950\n",
            "4   54.888889   64.923611   115.534722  ...  136.472222  151.500000  0.9925\n",
            "\n",
            "[5 rows x 18 columns]\n"
          ],
          "name": "stdout"
        }
      ]
    },
    {
      "cell_type": "code",
      "metadata": {
        "id": "dZSOVH78CeU_",
        "colab_type": "code",
        "colab": {
          "base_uri": "https://localhost:8080/",
          "height": 55
        },
        "outputId": "16571752-ce8c-41f2-de73-8a8916561bfd"
      },
      "source": [
        "# found drive\n",
        "from google.colab import drive\n",
        "drive.mount('drive')"
      ],
      "execution_count": 25,
      "outputs": [
        {
          "output_type": "stream",
          "text": [
            "Drive already mounted at drive; to attempt to forcibly remount, call drive.mount(\"drive\", force_remount=True).\n"
          ],
          "name": "stdout"
        }
      ]
    },
    {
      "cell_type": "code",
      "metadata": {
        "id": "Lw8rqNu0CpQv",
        "colab_type": "code",
        "colab": {}
      },
      "source": [
        "# get csv file\n",
        "Contraste_Buraco.to_csv('Contraste_Buraco_01_jan_2020.csv')"
      ],
      "execution_count": 0,
      "outputs": []
    },
    {
      "cell_type": "code",
      "metadata": {
        "id": "QS3XRVNFtISH",
        "colab_type": "code",
        "colab": {}
      },
      "source": [
        "# get csv file\n",
        "Contraste_Grao.to_csv('Contraste_Grao_01_jan_2020.csv')"
      ],
      "execution_count": 0,
      "outputs": []
    },
    {
      "cell_type": "code",
      "metadata": {
        "id": "1r-ljDKotIlT",
        "colab_type": "code",
        "colab": {}
      },
      "source": [
        "# get csv file\n",
        "Contraste_Indef.to_csv('Contraste_Indef_01_jan_2020.csv')"
      ],
      "execution_count": 0,
      "outputs": []
    },
    {
      "cell_type": "code",
      "metadata": {
        "id": "6KFSiJ3tB7L2",
        "colab_type": "code",
        "colab": {}
      },
      "source": [
        "# save in drive\n",
        "!cp Contraste_Buraco_01_jan_2020.csv drive/My\\ Drive/Maria_Gabriela_Textura_dados_jan_2020/"
      ],
      "execution_count": 0,
      "outputs": []
    },
    {
      "cell_type": "code",
      "metadata": {
        "id": "foBD0uxUtROs",
        "colab_type": "code",
        "colab": {}
      },
      "source": [
        "# save in drive\n",
        "!cp Contraste_Grao_01_jan_2020.csv drive/My\\ Drive/Maria_Gabriela_Textura_dados_jan_2020/"
      ],
      "execution_count": 0,
      "outputs": []
    },
    {
      "cell_type": "code",
      "metadata": {
        "id": "g778xFc2tRh3",
        "colab_type": "code",
        "colab": {}
      },
      "source": [
        "# save in drive\n",
        "!cp Contraste_Indef_01_jan_2020.csv drive/My\\ Drive/Maria_Gabriela_Textura_dados_jan_2020/"
      ],
      "execution_count": 0,
      "outputs": []
    }
  ]
}