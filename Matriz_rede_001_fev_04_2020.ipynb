{
  "nbformat": 4,
  "nbformat_minor": 0,
  "metadata": {
    "colab": {
      "name": "Matriz_rede_001_fev_04_2020.ipynb",
      "provenance": [],
      "collapsed_sections": [],
      "include_colab_link": true
    },
    "kernelspec": {
      "name": "python3",
      "display_name": "Python 3"
    },
    "accelerator": "GPU"
  },
  "cells": [
    {
      "cell_type": "markdown",
      "metadata": {
        "id": "view-in-github",
        "colab_type": "text"
      },
      "source": [
        "<a href=\"https://colab.research.google.com/github/ucfilho/marquesgabi_2020/blob/master/Matriz_rede_001_fev_04_2020.ipynb\" target=\"_parent\"><img src=\"https://colab.research.google.com/assets/colab-badge.svg\" alt=\"Open In Colab\"/></a>"
      ]
    },
    {
      "cell_type": "code",
      "metadata": {
        "id": "SzWdrvAgvBId",
        "colab_type": "code",
        "colab": {}
      },
      "source": [
        "import numpy as np\n",
        "import cv2\n",
        "from skimage import data\n",
        "import matplotlib.pyplot as plt\n",
        "import matplotlib\n",
        "import pandas as pd\n",
        "from skimage import io, util\n",
        "import os \n",
        "import zipfile\n",
        "from skimage import filters\n",
        "from skimage import exposure\n",
        "import skimage.feature as sk\n",
        "from google.colab import files\n",
        "from scipy import stats\n",
        "from scipy.signal import find_peaks\n",
        "from scipy.signal import peak_prominences\n",
        "from scipy.signal import peak_widths\n",
        "from scipy.integrate import simps\n",
        "%matplotlib inline"
      ],
      "execution_count": 0,
      "outputs": []
    },
    {
      "cell_type": "code",
      "metadata": {
        "id": "h1Zsufcm9bfv",
        "colab_type": "code",
        "outputId": "5214abaa-1fca-4f11-d93b-b3f0ddd77a73",
        "colab": {
          "base_uri": "https://localhost:8080/",
          "height": 223
        }
      },
      "source": [
        "!wget http://ftp.feq.ufu.br/ubirajara/Contraste_dez_10_2019.zip\n",
        "Transfere='Contraste_dez_10_2019.zip'"
      ],
      "execution_count": 0,
      "outputs": [
        {
          "output_type": "stream",
          "text": [
            "--2019-12-17 21:04:38--  http://ftp.feq.ufu.br/ubirajara/Contraste_dez_10_2019.zip\n",
            "Resolving ftp.feq.ufu.br (ftp.feq.ufu.br)... 200.19.144.11\n",
            "Connecting to ftp.feq.ufu.br (ftp.feq.ufu.br)|200.19.144.11|:80... connected.\n",
            "HTTP request sent, awaiting response... 200 OK\n",
            "Length: 130906 (128K) [application/zip]\n",
            "Saving to: ‘Contraste_dez_10_2019.zip.1’\n",
            "\n",
            "Contraste_dez_10_20 100%[===================>] 127.84K  74.2KB/s    in 1.7s    \n",
            "\n",
            "2019-12-17 21:04:43 (74.2 KB/s) - ‘Contraste_dez_10_2019.zip.1’ saved [130906/130906]\n",
            "\n"
          ],
          "name": "stdout"
        }
      ]
    },
    {
      "cell_type": "code",
      "metadata": {
        "id": "n3EWa3f7A-FE",
        "colab_type": "code",
        "colab": {}
      },
      "source": [
        "file_name = zipfile.ZipFile(Transfere, 'r')\n",
        "file_name.extractall()\n",
        "FILE=Transfere\n",
        "file_name=[]\n",
        "\n",
        "with zipfile.ZipFile(FILE, \"r\") as f:\n",
        "    for name in f.namelist():\n",
        "        file_name.append(name)"
      ],
      "execution_count": 0,
      "outputs": []
    },
    {
      "cell_type": "code",
      "metadata": {
        "id": "avVL_ZAd7ZLi",
        "colab_type": "code",
        "outputId": "439261a8-051b-4062-896a-cd3e83bd4d30",
        "colab": {
          "base_uri": "https://localhost:8080/",
          "height": 56
        }
      },
      "source": [
        "print(file_name)"
      ],
      "execution_count": 0,
      "outputs": [
        {
          "output_type": "stream",
          "text": [
            "['Maria_Gabriela_Textura_dados_dez_2019/Contraste_Grao_01_dez_2019.csv', 'Maria_Gabriela_Textura_dados_dez_2019/Contraste_Buraco_01_dez_2019.csv', 'Maria_Gabriela_Textura_dados_dez_2019/Contraste_Indef_01_dez_2019.csv']\n"
          ],
          "name": "stdout"
        }
      ]
    },
    {
      "cell_type": "code",
      "metadata": {
        "id": "lq0P1UxC3ZRC",
        "colab_type": "code",
        "colab": {}
      },
      "source": [
        "Nomes=['no.peaks','Media_proem','area under','Width_peaks','Width_peaks_max',\n",
        "       'Width_peaks_min','Median','Mode','Mean','Sd' ]"
      ],
      "execution_count": 0,
      "outputs": []
    },
    {
      "cell_type": "code",
      "metadata": {
        "id": "qKqzlX77P5-M",
        "colab_type": "code",
        "colab": {}
      },
      "source": [
        "df_b= pd.read_csv(file_name[0]) # first picture\n",
        "# print(df_b.head())\n",
        "df_b=np.array(df_b)\n",
        "df_b= np.delete(df_b, 0, axis=1) # delete first colunm\n"
      ],
      "execution_count": 0,
      "outputs": []
    },
    {
      "cell_type": "code",
      "metadata": {
        "id": "d2Rumo-x2q6u",
        "colab_type": "code",
        "colab": {}
      },
      "source": [
        "row_b,col=df_b.shape"
      ],
      "execution_count": 0,
      "outputs": []
    },
    {
      "cell_type": "code",
      "metadata": {
        "id": "LuyJQcmS9xc0",
        "colab_type": "code",
        "colab": {}
      },
      "source": [
        "Num=row_b  # linha do numero de fotos\n",
        "col=len(Nomes) # coluna do dataframe\n",
        "matriz_x_b=np.zeros((row_b,col))\n",
        "for i in range(Num):\n",
        "  x=df_b[i,:]\n",
        "  peaks, rr = find_peaks(x, height=0)\n",
        "\n",
        "  N_peaks=len(peaks)\n",
        "  prominences = peak_prominences(x, peaks)\n",
        "  Media_proem=np.mean(prominences)\n",
        "  Area = simps(x, dx=1)\n",
        "  Width_peaks =np.mean(peak_widths(x, peaks, rel_height=0.5))\n",
        "  Width_peaks_max =np.max(peak_widths(x, peaks, rel_height=0.5))\n",
        "  Width_peaks_min =np.min(peak_widths(x, peaks, rel_height=0.5))\n",
        "  Median = np.median(x)\n",
        "  Mode= stats.mode(x)[0]\n",
        "  Mean=np.mean(x)\n",
        "  Sd=np.std(x)\n",
        "\n",
        "  Features=[]\n",
        "  Features.append(N_peaks)\n",
        "  Features.append(Media_proem )\n",
        "  Features.append(Area)\n",
        "  Features.append(Width_peaks )\n",
        "  Features.append(Width_peaks_max)\n",
        "  Features.append(Width_peaks_min)\n",
        "  Features.append(Median )\n",
        "  Features.append(Mode[0])\n",
        "  Features.append(Mean)\n",
        "  Features.append(Sd)\n",
        "  Features=pd.DataFrame(Features,index=Nomes)\n",
        "  matriz_x_b[i,:]=np.array(Features.loc[:,0])"
      ],
      "execution_count": 0,
      "outputs": []
    },
    {
      "cell_type": "code",
      "metadata": {
        "id": "WowMS03-MDub",
        "colab_type": "code",
        "colab": {}
      },
      "source": [
        "df_g = pd.read_csv(file_name[1]) # second picture\n",
        "#print(df_g.head())\n",
        "df_g=np.array(df_g)\n",
        "df_g = np.delete(df_g, 0, axis=1) # delete first colunm\n"
      ],
      "execution_count": 0,
      "outputs": []
    },
    {
      "cell_type": "code",
      "metadata": {
        "id": "6hWTFQTU26aB",
        "colab_type": "code",
        "colab": {}
      },
      "source": [
        "row_g,col=df_g.shape"
      ],
      "execution_count": 0,
      "outputs": []
    },
    {
      "cell_type": "code",
      "metadata": {
        "id": "_YlN66Qx1w_X",
        "colab_type": "code",
        "colab": {}
      },
      "source": [
        "Num=row_g  # linha do numero de fotos\n",
        "col=len(Nomes) # coluna do dataframe\n",
        "matriz_x_g=np.zeros((row_g,col))\n",
        "for i in range(Num):\n",
        "  x=df_g[i,:]\n",
        "  peaks, rr = find_peaks(x, height=0)\n",
        "\n",
        "  N_peaks=len(peaks)\n",
        "  prominences = peak_prominences(x, peaks)\n",
        "  Media_proem=np.mean(prominences)\n",
        "  Area = simps(x, dx=1)\n",
        "  Width_peaks =np.mean(peak_widths(x, peaks, rel_height=0.5))\n",
        "  Width_peaks_max =np.max(peak_widths(x, peaks, rel_height=0.5))\n",
        "  Width_peaks_min =np.min(peak_widths(x, peaks, rel_height=0.5))\n",
        "  Median = np.median(x)\n",
        "  Mode= stats.mode(x)[0]\n",
        "  Mean=np.mean(x)\n",
        "  Sd=np.std(x)\n",
        "\n",
        "  Features=[]\n",
        "  Features.append(N_peaks)\n",
        "  Features.append(Media_proem )\n",
        "  Features.append(Area)\n",
        "  Features.append(Width_peaks )\n",
        "  Features.append(Width_peaks_max)\n",
        "  Features.append(Width_peaks_min)\n",
        "  Features.append(Median )\n",
        "  Features.append(Mode[0])\n",
        "  Features.append(Mean)\n",
        "  Features.append(Sd)\n",
        "  Features=pd.DataFrame(Features,index=Nomes)\n",
        "  matriz_x_g[i,:]=np.array(Features.loc[:,0])"
      ],
      "execution_count": 0,
      "outputs": []
    },
    {
      "cell_type": "code",
      "metadata": {
        "id": "EVoal9QcMgh2",
        "colab_type": "code",
        "colab": {}
      },
      "source": [
        "df_i = pd.read_csv(file_name[2]) # third picture\n",
        "#print(df_i.head())\n",
        "df_i=np.array(df_i)\n",
        "df_i = np.delete(df_i, 0, axis=1) # delete first colunm\n"
      ],
      "execution_count": 0,
      "outputs": []
    },
    {
      "cell_type": "code",
      "metadata": {
        "id": "4YtyyA9o2-sq",
        "colab_type": "code",
        "colab": {}
      },
      "source": [
        "row_i,col=df_i.shape"
      ],
      "execution_count": 0,
      "outputs": []
    },
    {
      "cell_type": "code",
      "metadata": {
        "id": "eLhvsIQ119LU",
        "colab_type": "code",
        "colab": {}
      },
      "source": [
        "Num=row_i  # linha do numero de fotos\n",
        "col=len(Nomes) # coluna do dataframe\n",
        "matriz_x_i=np.zeros((row_i,col))\n",
        "for i in range(Num):\n",
        "  x=df_i[i,:]\n",
        "  peaks, rr = find_peaks(x, height=0)\n",
        "\n",
        "  N_peaks=len(peaks)\n",
        "  prominences = peak_prominences(x, peaks)\n",
        "  Media_proem=np.mean(prominences)\n",
        "  Area = simps(x, dx=1)\n",
        "  Width_peaks =np.mean(peak_widths(x, peaks, rel_height=0.5))\n",
        "  Width_peaks_max =np.max(peak_widths(x, peaks, rel_height=0.5))\n",
        "  Width_peaks_min =np.min(peak_widths(x, peaks, rel_height=0.5))\n",
        "  Median = np.median(x)\n",
        "  Mode= stats.mode(x)[0]\n",
        "  Mean=np.mean(x)\n",
        "  Sd=np.std(x)\n",
        "\n",
        "  Features=[]\n",
        "  Features.append(N_peaks)\n",
        "  Features.append(Media_proem )\n",
        "  Features.append(Area)\n",
        "  Features.append(Width_peaks )\n",
        "  Features.append(Width_peaks_max)\n",
        "  Features.append(Width_peaks_min)\n",
        "  Features.append(Median )\n",
        "  Features.append(Mode[0])\n",
        "  Features.append(Mean)\n",
        "  Features.append(Sd)\n",
        "  Features=pd.DataFrame(Features,index=Nomes)\n",
        "  matriz_x_i[i,:]=np.array(Features.loc[:,0])"
      ],
      "execution_count": 0,
      "outputs": []
    },
    {
      "cell_type": "code",
      "metadata": {
        "id": "nWTtaP0CBMU3",
        "colab_type": "code",
        "colab": {}
      },
      "source": [
        "Nomes=['no.peaks','Media_proem','area under','Width_peaks','Width_peaks_max',\n",
        "       'Width_peaks_min','Median','Mode','Mean','Sd' ]"
      ],
      "execution_count": 0,
      "outputs": []
    },
    {
      "cell_type": "code",
      "metadata": {
        "id": "5MooYYWXNQH4",
        "colab_type": "code",
        "colab": {}
      },
      "source": [
        "#print(matriz_x)"
      ],
      "execution_count": 0,
      "outputs": []
    },
    {
      "cell_type": "code",
      "metadata": {
        "id": "SvqwCW3gCv5z",
        "colab_type": "code",
        "colab": {}
      },
      "source": [
        "df_buraco=pd.DataFrame(matriz_x_b,columns=Nomes)\n",
        "# print(df_buraco)"
      ],
      "execution_count": 0,
      "outputs": []
    },
    {
      "cell_type": "code",
      "metadata": {
        "id": "bwCAQw8EDOjl",
        "colab_type": "code",
        "outputId": "60b3c591-3bb2-4ccd-9eca-57acc6b427f6",
        "colab": {
          "base_uri": "https://localhost:8080/",
          "height": 167
        }
      },
      "source": [
        "df_buraco.insert(0, \"Type\", \"buraco\") \n",
        "print(df_buraco.head())"
      ],
      "execution_count": 0,
      "outputs": [
        {
          "output_type": "stream",
          "text": [
            "     Type  no.peaks  Media_proem  ...      Mode       Mean         Sd\n",
            "0  buraco       4.0    51.384595  ...  1.576266  18.934430  21.464729\n",
            "1  buraco       2.0    47.626771  ...  1.186329   8.392858  10.178723\n",
            "2  buraco       2.0    47.249986  ...  1.019165  10.898776  14.800251\n",
            "3  buraco       4.0    70.047513  ...  6.722350  77.750603  45.762334\n",
            "4  buraco       6.0    42.730606  ...  1.336058   8.154355   8.389805\n",
            "\n",
            "[5 rows x 11 columns]\n"
          ],
          "name": "stdout"
        }
      ]
    },
    {
      "cell_type": "code",
      "metadata": {
        "id": "Bv_cmBTAJQxV",
        "colab_type": "code",
        "colab": {}
      },
      "source": [
        "df_grao=pd.DataFrame(matriz_x_g,columns=Nomes)\n",
        "# print(df_grao)"
      ],
      "execution_count": 0,
      "outputs": []
    },
    {
      "cell_type": "code",
      "metadata": {
        "id": "agoa9fKTE93Z",
        "colab_type": "code",
        "outputId": "2464ef57-f871-4e15-fa8c-bb9e694b4fe4",
        "colab": {
          "base_uri": "https://localhost:8080/",
          "height": 167
        }
      },
      "source": [
        "df_grao.insert(0, \"Type\", \"grao\") \n",
        "print(df_grao.head())"
      ],
      "execution_count": 0,
      "outputs": [
        {
          "output_type": "stream",
          "text": [
            "   Type  no.peaks  Media_proem  ...      Mode      Mean        Sd\n",
            "0  grao       9.0    59.225513  ...  0.492801  3.428561  3.954993\n",
            "1  grao       5.0    51.211486  ...  0.762829  6.175834  3.765709\n",
            "2  grao       6.0    22.557113  ...  0.887800  3.476754  3.028102\n",
            "3  grao       5.0    64.623715  ...  0.656805  4.287639  2.874732\n",
            "4  grao       3.0    49.081802  ...  2.185055  6.767893  6.089387\n",
            "\n",
            "[5 rows x 11 columns]\n"
          ],
          "name": "stdout"
        }
      ]
    },
    {
      "cell_type": "code",
      "metadata": {
        "id": "WMdBjiG32b5S",
        "colab_type": "code",
        "colab": {}
      },
      "source": [
        "df_indef=pd.DataFrame(matriz_x_i,columns=Nomes)\n",
        "# print(df_indef)"
      ],
      "execution_count": 0,
      "outputs": []
    },
    {
      "cell_type": "code",
      "metadata": {
        "id": "Dl2WZw8lE_Tz",
        "colab_type": "code",
        "outputId": "24ddc210-e12b-4236-af1b-fa6a08c03310",
        "colab": {
          "base_uri": "https://localhost:8080/",
          "height": 167
        }
      },
      "source": [
        "df_indef.insert(0, \"Type\", \"indef\") \n",
        "print(df_indef.head())"
      ],
      "execution_count": 0,
      "outputs": [
        {
          "output_type": "stream",
          "text": [
            "    Type  no.peaks  Media_proem  ...      Mode       Mean         Sd\n",
            "0  indef       4.0    64.884916  ...  0.669765  13.467730  15.387133\n",
            "1  indef       5.0    61.981122  ...  2.350107  18.289085  10.823553\n",
            "2  indef       2.0    32.639287  ...  1.240676   7.062873   6.389253\n",
            "3  indef       3.0    86.908521  ...  0.640841   2.723891   2.519404\n",
            "4  indef       4.0    72.569906  ...  1.030371   4.446396   2.652715\n",
            "\n",
            "[5 rows x 11 columns]\n"
          ],
          "name": "stdout"
        }
      ]
    },
    {
      "cell_type": "code",
      "metadata": {
        "id": "RjpSvcv5GMER",
        "colab_type": "code",
        "colab": {}
      },
      "source": [
        "frames = [df_buraco, df_grao, df_indef]\n",
        "df=pd.concat(frames)"
      ],
      "execution_count": 0,
      "outputs": []
    },
    {
      "cell_type": "code",
      "metadata": {
        "id": "0rfVvvJmHIbF",
        "colab_type": "code",
        "outputId": "f24af85e-da24-4069-dfeb-42234df75402",
        "colab": {
          "base_uri": "https://localhost:8080/",
          "height": 36
        }
      },
      "source": [
        "print(df.shape)"
      ],
      "execution_count": 0,
      "outputs": [
        {
          "output_type": "stream",
          "text": [
            "(120, 11)\n"
          ],
          "name": "stdout"
        }
      ]
    },
    {
      "cell_type": "code",
      "metadata": {
        "id": "j-Agc0NZHyjt",
        "colab_type": "code",
        "outputId": "02136481-1582-4ade-de10-88b08edf7b19",
        "colab": {
          "base_uri": "https://localhost:8080/",
          "height": 447
        }
      },
      "source": [
        "print(df.iloc[30:50,:])"
      ],
      "execution_count": 0,
      "outputs": [
        {
          "output_type": "stream",
          "text": [
            "      Type  no.peaks  Media_proem  ...      Mode       Mean         Sd\n",
            "30  buraco       7.0    43.844881  ...  0.905054  16.218999  19.154931\n",
            "31  buraco       5.0    51.726775  ...  1.559788   8.460025  10.315857\n",
            "32  buraco      10.0    39.678556  ...  2.150818   8.486456  14.687298\n",
            "33  buraco       5.0    47.972865  ...  0.838655   3.799588   4.160934\n",
            "34  buraco       6.0    37.717199  ...  0.916593  17.200928  23.293362\n",
            "35  buraco       5.0    37.506492  ...  5.044786  29.181403  21.480069\n",
            "36  buraco       6.0    49.696526  ...  1.130132  12.131023  19.787429\n",
            "37  buraco      10.0    49.506823  ...  4.074059  24.613801  38.348152\n",
            "38  buraco       6.0    39.371926  ...  0.634558  12.505479  14.891896\n",
            "39  buraco       2.0    44.502959  ...  0.725205   4.241255   3.857838\n",
            "0     grao       9.0    59.225513  ...  0.492801   3.428561   3.954993\n",
            "1     grao       5.0    51.211486  ...  0.762829   6.175834   3.765709\n",
            "2     grao       6.0    22.557113  ...  0.887800   3.476754   3.028102\n",
            "3     grao       5.0    64.623715  ...  0.656805   4.287639   2.874732\n",
            "4     grao       3.0    49.081802  ...  2.185055   6.767893   6.089387\n",
            "5     grao       8.0    60.562144  ...  0.422222   1.795585   1.169058\n",
            "6     grao       3.0    61.902764  ...  0.710955   4.668445   4.936378\n",
            "7     grao       6.0    41.412836  ...  1.808970   9.188403  10.882562\n",
            "8     grao       3.0    52.315613  ...  0.583826   3.340808   1.898353\n",
            "9     grao       3.0    63.006968  ...  0.642961   5.017915   6.220446\n",
            "\n",
            "[20 rows x 11 columns]\n"
          ],
          "name": "stdout"
        }
      ]
    },
    {
      "cell_type": "code",
      "metadata": {
        "id": "eB79lAWKcknQ",
        "colab_type": "code",
        "outputId": "ba3297b5-d585-4c55-8315-0ecfd7f35bd6",
        "colab": {
          "base_uri": "https://localhost:8080/",
          "height": 36
        }
      },
      "source": [
        "\n",
        "# found drive\n",
        "from google.colab import drive\n",
        "drive.mount('drive')"
      ],
      "execution_count": 0,
      "outputs": [
        {
          "output_type": "stream",
          "text": [
            "Drive already mounted at drive; to attempt to forcibly remount, call drive.mount(\"drive\", force_remount=True).\n"
          ],
          "name": "stdout"
        }
      ]
    },
    {
      "cell_type": "code",
      "metadata": {
        "id": "f581bIdFclu-",
        "colab_type": "code",
        "colab": {}
      },
      "source": [
        "# get csv file\n",
        "df.to_csv('Fotos_Treina_ANN_dez_2019.csv')"
      ],
      "execution_count": 0,
      "outputs": []
    },
    {
      "cell_type": "code",
      "metadata": {
        "id": "paRPosRnc8s7",
        "colab_type": "code",
        "colab": {}
      },
      "source": [
        "# save in drive\n",
        "!cp Fotos_Treina_ANN_dez_2019.csv drive/My\\ Drive/Maria_Gabriela_Textura_dados_dez_2019/"
      ],
      "execution_count": 0,
      "outputs": []
    }
  ]
}