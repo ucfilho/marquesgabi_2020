{
  "nbformat": 4,
  "nbformat_minor": 0,
  "metadata": {
    "colab": {
      "name": "Other_Features_Determination_002_fev_04_2020.ipynb",
      "provenance": [],
      "collapsed_sections": [],
      "include_colab_link": true
    },
    "kernelspec": {
      "name": "python3",
      "display_name": "Python 3"
    },
    "accelerator": "GPU"
  },
  "cells": [
    {
      "cell_type": "markdown",
      "metadata": {
        "id": "view-in-github",
        "colab_type": "text"
      },
      "source": [
        "<a href=\"https://colab.research.google.com/github/ucfilho/marquesgabi_2020/blob/master/Other_Features_Determination_002_fev_04_2020.ipynb\" target=\"_parent\"><img src=\"https://colab.research.google.com/assets/colab-badge.svg\" alt=\"Open In Colab\"/></a>"
      ]
    },
    {
      "cell_type": "code",
      "metadata": {
        "id": "f393Z8HdEmRg",
        "colab_type": "code",
        "outputId": "690de715-53f4-43c7-bcf4-dfce9b217de4",
        "colab": {
          "base_uri": "https://localhost:8080/",
          "height": 54
        }
      },
      "source": [
        "!pip install mahotas"
      ],
      "execution_count": 1,
      "outputs": [
        {
          "output_type": "stream",
          "text": [
            "Requirement already satisfied: mahotas in /usr/local/lib/python3.6/dist-packages (1.4.9)\n",
            "Requirement already satisfied: numpy in /usr/local/lib/python3.6/dist-packages (from mahotas) (1.17.5)\n"
          ],
          "name": "stdout"
        }
      ]
    },
    {
      "cell_type": "code",
      "metadata": {
        "id": "W0wfLMP8nWAM",
        "colab_type": "code",
        "outputId": "d6cb5edf-de6f-4600-d0d1-bc1df8b1d7e8",
        "colab": {
          "base_uri": "https://localhost:8080/",
          "height": 54
        }
      },
      "source": [
        "\n",
        "!git clone https://github.com/ucfilho/marquesgabi #clonar do Github\n",
        "%cd marquesgabi"
      ],
      "execution_count": 2,
      "outputs": [
        {
          "output_type": "stream",
          "text": [
            "fatal: destination path 'marquesgabi' already exists and is not an empty directory.\n",
            "/content/marquesgabi\n"
          ],
          "name": "stdout"
        }
      ]
    },
    {
      "cell_type": "code",
      "metadata": {
        "id": "SzWdrvAgvBId",
        "colab_type": "code",
        "colab": {}
      },
      "source": [
        "import numpy as np\n",
        "import cv2\n",
        "from skimage import data\n",
        "import matplotlib.pyplot as plt\n",
        "import matplotlib\n",
        "import pandas as pd\n",
        "from skimage import io, util\n",
        "import mahotas.features.texture as mht\n",
        "import mahotas.features\n",
        "import os \n",
        "import zipfile\n",
        "from skimage import filters\n",
        "from skimage import exposure\n",
        "import skimage.feature as sk\n",
        "from google.colab import files\n",
        "from numpy import linalg as LA\n",
        "from scipy.signal import find_peaks\n",
        "from scipy.signal import peak_prominences\n",
        "from scipy.signal import peak_widths\n",
        "import re\n",
        "import Go2BlackWhite\n",
        "import Go2Mahotas\n",
        "%matplotlib inline"
      ],
      "execution_count": 0,
      "outputs": []
    },
    {
      "cell_type": "code",
      "metadata": {
        "id": "xoW1HoWp3qNO",
        "colab_type": "code",
        "colab": {}
      },
      "source": [
        "Size=100 # tamanho da foto\n",
        "Sub_Size=int(Size/5) # tamanho do fracionamento\n",
        "Row_Crop=1/2 # posicao do corte\n",
        "Crop=int(Size*Row_Crop)"
      ],
      "execution_count": 0,
      "outputs": []
    },
    {
      "cell_type": "code",
      "metadata": {
        "id": "JqJvOnq-DVhB",
        "colab_type": "code",
        "outputId": "6318a03d-a1cc-444e-dc72-ad6a09e0e20a",
        "colab": {
          "base_uri": "https://localhost:8080/",
          "height": 145
        }
      },
      "source": [
        "#!git clone https://github.com/marquesgabi/Doutorado #clonar do Github\n",
        "!git clone https://github.com/ucfilho/marquesgabi_2020\n",
        "#%cd Doutorado\n",
        "%cd marquesgabi_2020\n",
        "#!ls"
      ],
      "execution_count": 5,
      "outputs": [
        {
          "output_type": "stream",
          "text": [
            "Cloning into 'marquesgabi_2020'...\n",
            "remote: Enumerating objects: 64, done.\u001b[K\n",
            "remote: Counting objects:   1% (1/64)\u001b[K\rremote: Counting objects:   3% (2/64)\u001b[K\rremote: Counting objects:   4% (3/64)\u001b[K\rremote: Counting objects:   6% (4/64)\u001b[K\rremote: Counting objects:   7% (5/64)\u001b[K\rremote: Counting objects:   9% (6/64)\u001b[K\rremote: Counting objects:  10% (7/64)\u001b[K\rremote: Counting objects:  12% (8/64)\u001b[K\rremote: Counting objects:  14% (9/64)\u001b[K\rremote: Counting objects:  15% (10/64)\u001b[K\rremote: Counting objects:  17% (11/64)\u001b[K\rremote: Counting objects:  18% (12/64)\u001b[K\rremote: Counting objects:  20% (13/64)\u001b[K\rremote: Counting objects:  21% (14/64)\u001b[K\rremote: Counting objects:  23% (15/64)\u001b[K\rremote: Counting objects:  25% (16/64)\u001b[K\rremote: Counting objects:  26% (17/64)\u001b[K\rremote: Counting objects:  28% (18/64)\u001b[K\rremote: Counting objects:  29% (19/64)\u001b[K\rremote: Counting objects:  31% (20/64)\u001b[K\rremote: Counting objects:  32% (21/64)\u001b[K\rremote: Counting objects:  34% (22/64)\u001b[K\rremote: Counting objects:  35% (23/64)\u001b[K\rremote: Counting objects:  37% (24/64)\u001b[K\rremote: Counting objects:  39% (25/64)\u001b[K\rremote: Counting objects:  40% (26/64)\u001b[K\rremote: Counting objects:  42% (27/64)\u001b[K\rremote: Counting objects:  43% (28/64)\u001b[K\rremote: Counting objects:  45% (29/64)\u001b[K\rremote: Counting objects:  46% (30/64)\u001b[K\rremote: Counting objects:  48% (31/64)\u001b[K\rremote: Counting objects:  50% (32/64)\u001b[K\rremote: Counting objects:  51% (33/64)\u001b[K\rremote: Counting objects:  53% (34/64)\u001b[K\rremote: Counting objects:  54% (35/64)\u001b[K\rremote: Counting objects:  56% (36/64)\u001b[K\rremote: Counting objects:  57% (37/64)\u001b[K\rremote: Counting objects:  59% (38/64)\u001b[K\rremote: Counting objects:  60% (39/64)\u001b[K\rremote: Counting objects:  62% (40/64)\u001b[K\rremote: Counting objects:  64% (41/64)\u001b[K\rremote: Counting objects:  65% (42/64)\u001b[K\rremote: Counting objects:  67% (43/64)\u001b[K\rremote: Counting objects:  68% (44/64)\u001b[K\rremote: Counting objects:  70% (45/64)\u001b[K\rremote: Counting objects:  71% (46/64)\u001b[K\rremote: Counting objects:  73% (47/64)\u001b[K\rremote: Counting objects:  75% (48/64)\u001b[K\rremote: Counting objects:  76% (49/64)\u001b[K\rremote: Counting objects:  78% (50/64)\u001b[K\rremote: Counting objects:  79% (51/64)\u001b[K\rremote: Counting objects:  81% (52/64)\u001b[K\rremote: Counting objects:  82% (53/64)\u001b[K\rremote: Counting objects:  84% (54/64)\u001b[K\rremote: Counting objects:  85% (55/64)\u001b[K\rremote: Counting objects:  87% (56/64)\u001b[K\rremote: Counting objects:  89% (57/64)\u001b[K\rremote: Counting objects:  90% (58/64)\u001b[K\rremote: Counting objects:  92% (59/64)\u001b[K\rremote: Counting objects:  93% (60/64)\u001b[K\rremote: Counting objects:  95% (61/64)\u001b[K\rremote: Counting objects:  96% (62/64)\u001b[K\rremote: Counting objects:  98% (63/64)\u001b[K\rremote: Counting objects: 100% (64/64)\u001b[K\rremote: Counting objects: 100% (64/64), done.\u001b[K\n",
            "remote: Compressing objects: 100% (62/62), done.\u001b[K\n",
            "remote: Total 64 (delta 31), reused 0 (delta 0), pack-reused 0\u001b[K\n",
            "Unpacking objects: 100% (64/64), done.\n",
            "/content/marquesgabi/marquesgabi_2020\n"
          ],
          "name": "stdout"
        }
      ]
    },
    {
      "cell_type": "code",
      "metadata": {
        "id": "XkxKux0IA_mC",
        "colab_type": "code",
        "colab": {}
      },
      "source": [
        "'''\n",
        "!git clone https://github.com/marquesgabi/Doutorado #clonar do Github\n",
        "%cd /Doutorado\n",
        "'''\n",
        "Transfere='Fotos9Amostras.zip'\n",
        "#!ls"
      ],
      "execution_count": 0,
      "outputs": []
    },
    {
      "cell_type": "code",
      "metadata": {
        "id": "-4cR4hqlDUBX",
        "colab_type": "code",
        "colab": {}
      },
      "source": [
        ""
      ],
      "execution_count": 0,
      "outputs": []
    },
    {
      "cell_type": "code",
      "metadata": {
        "id": "h1Zsufcm9bfv",
        "colab_type": "code",
        "outputId": "661b9af2-cb04-40d2-8228-168b88170469",
        "colab": {
          "base_uri": "https://localhost:8080/",
          "height": 35
        }
      },
      "source": [
        "'''\n",
        "!wget http://ftp.feq.ufu.br/ubirajara/GrBuInd.zip\n",
        "Transfere='GrBuInd.zip'\n",
        "'''"
      ],
      "execution_count": 7,
      "outputs": [
        {
          "output_type": "execute_result",
          "data": {
            "text/plain": [
              "\"\\n!wget http://ftp.feq.ufu.br/ubirajara/GrBuInd.zip\\nTransfere='GrBuInd.zip'\\n\""
            ]
          },
          "metadata": {
            "tags": []
          },
          "execution_count": 7
        }
      ]
    },
    {
      "cell_type": "code",
      "metadata": {
        "id": "c43TnWalRs_H",
        "colab_type": "code",
        "colab": {}
      },
      "source": [
        "file_name = zipfile.ZipFile(Transfere, 'r')\n",
        "file_name.extractall()"
      ],
      "execution_count": 0,
      "outputs": []
    },
    {
      "cell_type": "code",
      "metadata": {
        "id": "GrLtSCRor_By",
        "colab_type": "code",
        "colab": {
          "base_uri": "https://localhost:8080/",
          "height": 35
        },
        "outputId": "edaa26a4-272a-44c2-c2a8-daad908e712e"
      },
      "source": [
        "# print(img_name)\n",
        "print(Size)"
      ],
      "execution_count": 9,
      "outputs": [
        {
          "output_type": "stream",
          "text": [
            "100\n"
          ],
          "name": "stdout"
        }
      ]
    },
    {
      "cell_type": "code",
      "metadata": {
        "id": "nzaFMOSo_nFW",
        "colab_type": "code",
        "colab": {
          "base_uri": "https://localhost:8080/",
          "height": 35
        },
        "outputId": "d210824d-8a12-45bb-9d50-a3f6af8a422d"
      },
      "source": [
        "print(file_name)"
      ],
      "execution_count": 10,
      "outputs": [
        {
          "output_type": "stream",
          "text": [
            "<zipfile.ZipFile filename='Fotos9Amostras.zip' mode='r'>\n"
          ],
          "name": "stdout"
        }
      ]
    },
    {
      "cell_type": "code",
      "metadata": {
        "colab_type": "code",
        "id": "qCKcPafHsAuJ",
        "colab": {}
      },
      "source": [
        "# ww contain all photos in black and white\n",
        "ww,img_name=Go2BlackWhite.BlackWhite(Transfere,Size)\n",
        "# plt.axis(\"off\")\n",
        "# plt.imshow(ww[0], cmap = \"gray\")"
      ],
      "execution_count": 0,
      "outputs": []
    },
    {
      "cell_type": "code",
      "metadata": {
        "id": "Vi1KNBztICWH",
        "colab_type": "code",
        "colab": {
          "base_uri": "https://localhost:8080/",
          "height": 35
        },
        "outputId": "296c1679-f9a2-4396-9793-839debb1166b"
      },
      "source": [
        "print(np.mean(ww[0]))"
      ],
      "execution_count": 12,
      "outputs": [
        {
          "output_type": "stream",
          "text": [
            "87.5216\n"
          ],
          "name": "stdout"
        }
      ]
    },
    {
      "cell_type": "code",
      "metadata": {
        "id": "pMJdA-nxIpQO",
        "colab_type": "code",
        "colab": {
          "base_uri": "https://localhost:8080/",
          "height": 55
        },
        "outputId": "f27f57ab-fbb2-46af-8534-d6f5cdc56d28"
      },
      "source": [
        "Num,Row,Col=np.asarray(ww).shape\n",
        "Idx=[]\n",
        "New_Colunm=[]\n",
        "\n",
        "for i in range(Num):\n",
        "  Media=np.mean(ww[i])\n",
        "  k=np.where(ww[i].ravel() > Media)\n",
        "  Idx.append(np.asarray(k).ravel())\n",
        "\n",
        "Quant=Size*Size\n",
        "for i in Idx:\n",
        "  #print(i)\n",
        "  New_Colunm.append(len(i)/Quant)\n",
        "print(New_Colunm)"
      ],
      "execution_count": 13,
      "outputs": [
        {
          "output_type": "stream",
          "text": [
            "[0.4774, 0.4604, 0.4253, 0.4285, 0.3528, 0.3785, 0.4788, 0.4962, 0.5121, 0.5002, 0.4877, 0.6179, 0.4763, 0.5502, 0.4341, 0.4523, 0.4428, 0.6498, 0.5308, 0.4446, 0.5269, 0.3937, 0.506, 0.4839, 0.5569, 0.4689, 0.441, 0.5347, 0.4661, 0.473, 0.5524, 0.5415, 0.4619, 0.4745, 0.4583, 0.4525, 0.3327, 0.4354, 0.4048, 0.4532, 0.5028, 0.4566, 0.6364, 0.4378, 0.4944, 0.4352, 0.438, 0.5103, 0.5002, 0.5157, 0.5468, 0.4906, 0.4225, 0.5553, 0.4457, 0.4545, 0.4053, 0.5008, 0.4842, 0.4773, 0.4092, 0.422, 0.4133, 0.4942, 0.5174, 0.4871, 0.3869, 0.4032, 0.4162, 0.4104, 0.5386, 0.5684, 0.4612, 0.4718, 0.4917, 0.5049, 0.5215, 0.4793, 0.4797, 0.533, 0.495, 0.5447, 0.4777, 0.5352, 0.4365, 0.4564, 0.5495, 0.5656, 0.529, 0.5031, 0.5084, 0.5323, 0.4466, 0.4394, 0.4961, 0.3815, 0.5708, 0.5241, 0.4845, 0.4944, 0.3856, 0.5266, 0.5416, 0.5294, 0.5758, 0.4129, 0.4116, 0.5378, 0.5277, 0.4309, 0.4568, 0.3901, 0.5269, 0.5245, 0.4882, 0.427, 0.4591, 0.4489, 0.4917, 0.4918, 0.3589, 0.3494, 0.3615, 0.403, 0.4001, 0.4709, 0.4455, 0.4914, 0.4841, 0.4377, 0.5774, 0.5424, 0.5725, 0.4793, 0.4658, 0.4199, 0.4432, 0.4807, 0.6107, 0.5628, 0.4706, 0.4115, 0.4454, 0.447, 0.4513, 0.5253, 0.4604, 0.5307, 0.4344, 0.3872, 0.3344, 0.5709, 0.3296, 0.3605, 0.3942, 0.4802, 0.5443, 0.4885, 0.4697, 0.5395, 0.4123, 0.517, 0.4971, 0.5651, 0.3932, 0.6095, 0.553, 0.5213, 0.387, 0.4948, 0.4781, 0.4594, 0.41, 0.3845, 0.4612, 0.4142, 0.4408, 0.5059, 0.5362, 0.4766, 0.5171, 0.492, 0.4712, 0.5383, 0.4045, 0.4399, 0.391, 0.3692, 0.5036, 0.3935, 0.5133, 0.5257, 0.457, 0.4848, 0.5651, 0.4657, 0.4667, 0.438, 0.4874, 0.4004, 0.5323, 0.5209, 0.4576, 0.4723, 0.5012, 0.4585, 0.4594, 0.4889, 0.4874, 0.4441, 0.447, 0.5138, 0.5444, 0.5382, 0.4664, 0.3832, 0.466, 0.5055, 0.502, 0.5524, 0.465, 0.4825, 0.4736, 0.4503, 0.4685, 0.5728, 0.4227, 0.5176, 0.4539, 0.4319, 0.5349, 0.4659, 0.4542, 0.4647, 0.5698, 0.5527, 0.5835, 0.4966, 0.4555, 0.5289, 0.4392, 0.5019, 0.506, 0.5013, 0.4809, 0.4677, 0.6371, 0.4374, 0.3787, 0.44, 0.5308, 0.4139, 0.5783, 0.3984, 0.392, 0.4297, 0.5009, 0.4486, 0.441, 0.4114, 0.4651, 0.4844, 0.4941, 0.4907, 0.3488, 0.3929, 0.5034, 0.4934, 0.4298, 0.3374, 0.3952, 0.4857, 0.5537, 0.4204, 0.4195, 0.403, 0.3593, 0.4789, 0.5199, 0.5339, 0.4579, 0.5517, 0.4841, 0.3862, 0.4654, 0.42, 0.5027, 0.4644, 0.4908, 0.4028, 0.4796, 0.6022, 0.5241, 0.333, 0.3231, 0.4063, 0.5667, 0.4726, 0.3668, 0.4374, 0.4109, 0.4723, 0.452, 0.4338, 0.4992, 0.4371, 0.43, 0.3883, 0.2857, 0.5066, 0.6339, 0.5151, 0.6073, 0.5088, 0.5139, 0.4629, 0.5073, 0.4868, 0.6152, 0.4157, 0.4686, 0.472, 0.4896, 0.4852, 0.4814, 0.4892, 0.4379, 0.5283, 0.4598, 0.521, 0.5687, 0.4534, 0.4165, 0.3857, 0.5183, 0.4947, 0.4076, 0.3355, 0.3837, 0.4456, 0.4965, 0.4168, 0.5062, 0.5237, 0.4957, 0.5247, 0.5326, 0.4638, 0.3823, 0.4173, 0.5236, 0.5036, 0.4778, 0.4823, 0.5115, 0.4976, 0.4989, 0.5799, 0.4541, 0.4332, 0.3056, 0.3327, 0.4912, 0.3908, 0.3565, 0.438, 0.4556, 0.5258, 0.5724, 0.4726, 0.588, 0.631, 0.6148, 0.5553, 0.4996, 0.3721, 0.4952, 0.3954, 0.5172, 0.5213, 0.3249, 0.5221, 0.5427, 0.3407, 0.3875, 0.5309, 0.5201, 0.5424, 0.5255, 0.4444, 0.4804, 0.5953, 0.5306, 0.6096, 0.4411, 0.4668, 0.3746, 0.4869, 0.3996, 0.4867, 0.6129, 0.4942, 0.4985, 0.6247, 0.4628, 0.52, 0.4587, 0.5097, 0.5752, 0.5273, 0.6161, 0.478, 0.52, 0.5326, 0.4852, 0.3911, 0.5521, 0.4832, 0.5449, 0.5167, 0.3602, 0.395, 0.4478, 0.4926, 0.4725, 0.4234, 0.4979, 0.5232, 0.3989, 0.3299, 0.5076, 0.62, 0.5424, 0.6469, 0.5284, 0.6337, 0.6038, 0.5569, 0.5425, 0.5598, 0.5079, 0.5298, 0.6046, 0.5528, 0.5455, 0.4887, 0.5455, 0.5923, 0.6087, 0.5893, 0.4524, 0.3844, 0.5722, 0.3894, 0.4441, 0.3445, 0.3292, 0.3048, 0.3754, 0.4856, 0.5645, 0.6508, 0.671, 0.5485, 0.5479, 0.5819, 0.5745, 0.6385, 0.4813, 0.5806, 0.5555, 0.7099, 0.4996, 0.4963, 0.5229, 0.5313, 0.6409, 0.587, 0.5217, 0.5159, 0.4893, 0.4957, 0.5365, 0.533, 0.4549, 0.5811, 0.4062, 0.5329, 0.5404, 0.3982, 0.4999, 0.5938, 0.5921, 0.5796, 0.67, 0.5247, 0.6334, 0.6429, 0.568, 0.6115, 0.5127, 0.5324, 0.3989, 0.4613, 0.5003, 0.4281, 0.5473, 0.617, 0.534, 0.5549, 0.3566, 0.4917, 0.5725, 0.4999, 0.5301, 0.4903, 0.4394, 0.574, 0.5365, 0.3945, 0.6101, 0.6101, 0.6291, 0.6333, 0.4903, 0.491, 0.6227, 0.4999, 0.6176, 0.6031, 0.5742, 0.4787, 0.5064, 0.4655, 0.582, 0.5213, 0.4477, 0.504, 0.5179, 0.5182]\n"
          ],
          "name": "stdout"
        }
      ]
    },
    {
      "cell_type": "code",
      "metadata": {
        "id": "LKmJaSroR9XJ",
        "colab_type": "code",
        "colab": {
          "base_uri": "https://localhost:8080/",
          "height": 35
        },
        "outputId": "9173d525-fbe6-498b-c096-4f182e256420"
      },
      "source": [
        "print(len(New_Colunm))"
      ],
      "execution_count": 14,
      "outputs": [
        {
          "output_type": "stream",
          "text": [
            "540\n"
          ],
          "name": "stdout"
        }
      ]
    },
    {
      "cell_type": "code",
      "metadata": {
        "id": "MukX2r3ys3tm",
        "colab_type": "code",
        "colab": {}
      },
      "source": [
        "# Find the list elements starting with specific letter\n",
        "subs = 'B'\n",
        "Buraco = [x for x in img_name if re.search(subs, x)] \n",
        "subs = 'G'\n",
        "Grao = [x for x in img_name if re.search(subs, x)] \n",
        "subs = 'I'\n",
        "Indef = [x for x in img_name if re.search(subs, x)] "
      ],
      "execution_count": 0,
      "outputs": []
    },
    {
      "cell_type": "code",
      "metadata": {
        "id": "U2ymyUPFiADf",
        "colab_type": "code",
        "colab": {}
      },
      "source": [
        "j=0\n",
        "cont=-1\n",
        "Posicao_Buraco=[]\n",
        "for i in img_name:\n",
        "  cont=cont+1\n",
        "  for k in Buraco:\n",
        "    if(i==k):\n",
        "      Posicao_Buraco.append(cont)\n",
        "j=0\n",
        "cont=-1\n",
        "Posicao_Grao=[]\n",
        "for i in img_name:\n",
        "  cont=cont+1\n",
        "  for k in Grao:\n",
        "    if(i==k):\n",
        "      Posicao_Grao.append(cont)\n",
        "\n",
        "j=0\n",
        "cont=-1\n",
        "Posicao_Indef=[]\n",
        "for i in img_name:\n",
        "  cont=cont+1\n",
        "  for k in Indef:\n",
        "    if(i==k):\n",
        "      Posicao_Indef.append(cont)\n",
        "\n",
        "# print(Posicao_Grao)\n",
        "# print(Posicao_Buraco)\n",
        "# print(Posicao_Indef)\n"
      ],
      "execution_count": 0,
      "outputs": []
    },
    {
      "cell_type": "code",
      "metadata": {
        "id": "23vdxpKHZEzN",
        "colab_type": "code",
        "colab": {
          "base_uri": "https://localhost:8080/",
          "height": 345
        },
        "outputId": "7933b775-f55e-48a7-b788-ae16353f68ed"
      },
      "source": [
        "print(np.asarray(New_Colunm)[Posicao_Buraco])"
      ],
      "execution_count": 17,
      "outputs": [
        {
          "output_type": "stream",
          "text": [
            "[0.4774 0.4604 0.4253 0.4285 0.3528 0.3785 0.4788 0.4962 0.5121 0.5002\n",
            " 0.5524 0.5415 0.4619 0.4745 0.4583 0.4525 0.3327 0.4354 0.4048 0.4532\n",
            " 0.4092 0.422  0.4133 0.4942 0.5174 0.4871 0.3869 0.4032 0.4162 0.4104\n",
            " 0.5084 0.5323 0.4466 0.4394 0.4961 0.3815 0.5708 0.5241 0.4845 0.4944\n",
            " 0.3589 0.3494 0.3615 0.403  0.4001 0.4709 0.4455 0.4914 0.4841 0.4377\n",
            " 0.3344 0.5709 0.3296 0.3605 0.3942 0.4802 0.5443 0.4885 0.4697 0.5395\n",
            " 0.5171 0.492  0.4712 0.5383 0.4045 0.4399 0.391  0.3692 0.5036 0.3935\n",
            " 0.447  0.5138 0.5444 0.5382 0.4664 0.3832 0.466  0.5055 0.502  0.5524\n",
            " 0.4392 0.5019 0.506  0.5013 0.4809 0.4677 0.6371 0.4374 0.3787 0.44\n",
            " 0.3952 0.4857 0.5537 0.4204 0.4195 0.403  0.3593 0.4789 0.5199 0.5339\n",
            " 0.4109 0.4723 0.452  0.4338 0.4992 0.4371 0.43   0.3883 0.2857 0.5066\n",
            " 0.5687 0.4534 0.4165 0.3857 0.5183 0.4947 0.4076 0.3355 0.3837 0.4456\n",
            " 0.3056 0.3327 0.4912 0.3908 0.3565 0.438  0.4556 0.5258 0.5724 0.4726\n",
            " 0.4804 0.5953 0.5306 0.6096 0.4411 0.4668 0.3746 0.4869 0.3996 0.4867\n",
            " 0.3602 0.395  0.4478 0.4926 0.4725 0.4234 0.4979 0.5232 0.3989 0.3299\n",
            " 0.4524 0.3844 0.5722 0.3894 0.4441 0.3445 0.3292 0.3048 0.3754 0.4856\n",
            " 0.4893 0.4957 0.5365 0.533  0.4549 0.5811 0.4062 0.5329 0.5404 0.3982\n",
            " 0.3566 0.4917 0.5725 0.4999 0.5301 0.4903 0.4394 0.574  0.5365 0.3945]\n"
          ],
          "name": "stdout"
        }
      ]
    },
    {
      "cell_type": "code",
      "metadata": {
        "id": "9fPIt0WQfehg",
        "colab_type": "code",
        "colab": {}
      },
      "source": [
        "Nomes=['Color' ]\n",
        "matriz_x_b=np.asarray(New_Colunm)[Posicao_Buraco]\n",
        "df_buraco=pd.DataFrame(matriz_x_b,columns=Nomes) # print(df_buraco.head())\n",
        "matriz_x_g=np.asarray(New_Colunm)[Posicao_Grao]\n",
        "df_grao=pd.DataFrame(matriz_x_g,columns=Nomes)  # print(df_grao.head())\n",
        "matriz_x_i=np.asarray(New_Colunm)[Posicao_Indef]\n",
        "df_indef=pd.DataFrame(matriz_x_i,columns=Nomes) # print(df_indef.head())\n",
        "#print(df_buraco)\n",
        "#print(df_grao)\n",
        "#print(df_indef)"
      ],
      "execution_count": 0,
      "outputs": []
    },
    {
      "cell_type": "code",
      "metadata": {
        "id": "LxIrsxxQheWI",
        "colab_type": "code",
        "colab": {
          "base_uri": "https://localhost:8080/",
          "height": 126
        },
        "outputId": "4d65e7dc-80e2-44d6-a033-38aae7f80c38"
      },
      "source": [
        "df_grao.insert(0, \"Type\", \"grao\") \n",
        "print(df_grao.head())"
      ],
      "execution_count": 19,
      "outputs": [
        {
          "output_type": "stream",
          "text": [
            "   Type   Color\n",
            "0  grao  0.4877\n",
            "1  grao  0.6179\n",
            "2  grao  0.4763\n",
            "3  grao  0.5502\n",
            "4  grao  0.4341\n"
          ],
          "name": "stdout"
        }
      ]
    },
    {
      "cell_type": "code",
      "metadata": {
        "id": "vC8z3p0PiBvl",
        "colab_type": "code",
        "colab": {
          "base_uri": "https://localhost:8080/",
          "height": 126
        },
        "outputId": "21a942f2-9441-40f1-a170-fead2d38bf1d"
      },
      "source": [
        "df_indef.insert(0, \"Type\", \"indef\") \n",
        "print(df_indef.head())\n"
      ],
      "execution_count": 20,
      "outputs": [
        {
          "output_type": "stream",
          "text": [
            "    Type   Color\n",
            "0  indef  0.5269\n",
            "1  indef  0.3937\n",
            "2  indef  0.5060\n",
            "3  indef  0.4839\n",
            "4  indef  0.5569\n"
          ],
          "name": "stdout"
        }
      ]
    },
    {
      "cell_type": "code",
      "metadata": {
        "id": "Sn3PtvEViCft",
        "colab_type": "code",
        "colab": {
          "base_uri": "https://localhost:8080/",
          "height": 126
        },
        "outputId": "afeeca5d-ea0a-4843-e0ea-c20b189bede1"
      },
      "source": [
        "df_buraco.insert(0, \"Type\", \"buraco\") \n",
        "print(df_buraco.head())"
      ],
      "execution_count": 21,
      "outputs": [
        {
          "output_type": "stream",
          "text": [
            "     Type   Color\n",
            "0  buraco  0.4774\n",
            "1  buraco  0.4604\n",
            "2  buraco  0.4253\n",
            "3  buraco  0.4285\n",
            "4  buraco  0.3528\n"
          ],
          "name": "stdout"
        }
      ]
    }
  ]
}