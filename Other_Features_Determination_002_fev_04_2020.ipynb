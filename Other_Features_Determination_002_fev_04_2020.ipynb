{
  "nbformat": 4,
  "nbformat_minor": 0,
  "metadata": {
    "colab": {
      "name": "Other_Features_Determination_002_fev_04_2020.ipynb",
      "provenance": [],
      "collapsed_sections": [],
      "include_colab_link": true
    },
    "kernelspec": {
      "name": "python3",
      "display_name": "Python 3"
    },
    "accelerator": "GPU"
  },
  "cells": [
    {
      "cell_type": "markdown",
      "metadata": {
        "id": "view-in-github",
        "colab_type": "text"
      },
      "source": [
        "<a href=\"https://colab.research.google.com/github/ucfilho/marquesgabi_2020/blob/master/Other_Features_Determination_002_fev_04_2020.ipynb\" target=\"_parent\"><img src=\"https://colab.research.google.com/assets/colab-badge.svg\" alt=\"Open In Colab\"/></a>"
      ]
    },
    {
      "cell_type": "code",
      "metadata": {
        "id": "f393Z8HdEmRg",
        "colab_type": "code",
        "outputId": "7429776c-fce2-4cb4-abfe-0b470600af96",
        "colab": {
          "base_uri": "https://localhost:8080/",
          "height": 54
        }
      },
      "source": [
        "!pip install mahotas"
      ],
      "execution_count": 0,
      "outputs": [
        {
          "output_type": "stream",
          "text": [
            "Requirement already satisfied: mahotas in /usr/local/lib/python3.6/dist-packages (1.4.9)\n",
            "Requirement already satisfied: numpy in /usr/local/lib/python3.6/dist-packages (from mahotas) (1.17.5)\n"
          ],
          "name": "stdout"
        }
      ]
    },
    {
      "cell_type": "code",
      "metadata": {
        "id": "W0wfLMP8nWAM",
        "colab_type": "code",
        "outputId": "51e86903-984c-4389-e7e5-7213baa94188",
        "colab": {
          "base_uri": "https://localhost:8080/",
          "height": 54
        }
      },
      "source": [
        "\n",
        "!git clone https://github.com/ucfilho/marquesgabi #clonar do Github\n",
        "%cd marquesgabi"
      ],
      "execution_count": 0,
      "outputs": [
        {
          "output_type": "stream",
          "text": [
            "fatal: destination path 'marquesgabi' already exists and is not an empty directory.\n",
            "/content/marquesgabi\n"
          ],
          "name": "stdout"
        }
      ]
    },
    {
      "cell_type": "code",
      "metadata": {
        "id": "SzWdrvAgvBId",
        "colab_type": "code",
        "colab": {}
      },
      "source": [
        "import numpy as np\n",
        "import cv2\n",
        "from skimage import data\n",
        "import matplotlib.pyplot as plt\n",
        "import matplotlib\n",
        "import pandas as pd\n",
        "from skimage import io, util\n",
        "import mahotas.features.texture as mht\n",
        "import mahotas.features\n",
        "import os \n",
        "import zipfile\n",
        "from skimage import filters\n",
        "from skimage import exposure\n",
        "import skimage.feature as sk\n",
        "from google.colab import files\n",
        "from numpy import linalg as LA\n",
        "from scipy.signal import find_peaks\n",
        "from scipy.signal import peak_prominences\n",
        "from scipy.signal import peak_widths\n",
        "import re\n",
        "import Go2BlackWhite\n",
        "import Go2Mahotas\n",
        "%matplotlib inline"
      ],
      "execution_count": 0,
      "outputs": []
    },
    {
      "cell_type": "code",
      "metadata": {
        "id": "xoW1HoWp3qNO",
        "colab_type": "code",
        "colab": {}
      },
      "source": [
        "Size=100 # tamanho da foto\n",
        "Sub_Size=int(Size/5) # tamanho do fracionamento\n",
        "Row_Crop=1/2 # posicao do corte\n",
        "Crop=int(Size*Row_Crop)"
      ],
      "execution_count": 0,
      "outputs": []
    },
    {
      "cell_type": "code",
      "metadata": {
        "id": "JqJvOnq-DVhB",
        "colab_type": "code",
        "outputId": "acfeabd7-ed78-4cc7-d959-7d49b9c3639d",
        "colab": {
          "base_uri": "https://localhost:8080/",
          "height": 1000
        }
      },
      "source": [
        "#!git clone https://github.com/marquesgabi/Doutorado #clonar do Github\n",
        "!git https://github.com/ucfilho/marquesgabi_2020\n",
        "#%cd Doutorado\n",
        "%cd marquesgabi_2020\n",
        "!ls"
      ],
      "execution_count": 0,
      "outputs": [
        {
          "output_type": "stream",
          "text": [
            "git: 'https://github.com/ucfilho/marquesgabi_2020' is not a git command. See 'git --help'.\n",
            "[Errno 2] No such file or directory: 'marquesgabi_2020'\n",
            "/content/marquesgabi\n",
            "Analise_ajuste_modelos_jun_16_2019.ipynb\n",
            "ANN_fotos_01_dez_19_2019.ipynb\n",
            "ANN_fotos_02_dez_19_2019.ipynb\n",
            "ANN_fotos_03_dez_19_2019.ipynb\n",
            "ANN_fotos_04_dez_19_2019.ipynb\n",
            "ANN_fotos_05_dez_19_2019.ipynb\n",
            "ANN_fotos_06_dez_19_2019.ipynb\n",
            "ANN_fotos_modifica_variaveis_01_jan_20_2020.ipynb\n",
            "Calculo_001_set_30_2019.ipynb\n",
            "Calculo_002_set_30_2019.ipynb\n",
            "Calculo_003_out_03_2019.ipynb\n",
            "Calculo_004_out_14_2019.ipynb\n",
            "Calculo_005_out_17_2019.ipynb\n",
            "Calculo_006_out_21_2019.ipynb\n",
            "Calculo_007_out_21_2019.ipynb\n",
            "Calculo_008_out_23_2019.ipynb\n",
            "Calculo_009_out_24_2019.ipynb\n",
            "Calculo_010_out_24_2019.ipynb\n",
            "Calculo_011_out_24_2019.ipynb\n",
            "Calculo_012_out_24_2019.ipynb\n",
            "Calculo_013_out_30_2019.ipynb\n",
            "Calculo_014_out_30_2019.ipynb\n",
            "Calculo_015_out_30_2019.ipynb\n",
            "Calculo_016_out_30_2019.ipynb\n",
            "Calculo_017_out_31_2019.ipynb\n",
            "Calculo_018_out_31_2019.ipynb\n",
            "Calculo_019_out_31_2019.ipynb\n",
            "Calculo_020_NOV_01_2019.ipynb\n",
            "Calculo_021_NOV_01_2019.ipynb\n",
            "Calculo_022_NOV_07_2019.ipynb\n",
            "Calculo_023_NOV_07_2019.ipynb\n",
            "Calculo_024_NOV_12_2019.ipynb\n",
            "Cristais_Virtuais_distribui_jun_28_2019.ipynb\n",
            "Cristais_Virtuais_Estatistica_jun_28_2019.ipynb\n",
            "Cristais_Virtuais_jun_23_2019.ipynb\n",
            "Doutorado\n",
            "Extracting_retangles_001.ipynb\n",
            "Extracting_retangles_002.ipynb\n",
            "Extracting_retangles_003.ipynb\n",
            "Extracting_retangles_004.ipynb\n",
            "Features_Determination_teste_001_dez_03_2019.ipynb\n",
            "Features_Determination_teste_002_dez_03_2019.ipynb\n",
            "Features_Determination_teste_003_dez_03_2019.ipynb\n",
            "Features_Determination_teste_004_dez_03_2019.ipynb\n",
            "Features_Determination_teste_005_dez_03_2019.ipynb\n",
            "Features_Determination_teste_006_dez_03_2019.ipynb\n",
            "Features_Determination_teste_007_dez_05_2019.ipynb\n",
            "Features_Determination_teste_008_dez_05_2019.ipynb\n",
            "Features_Determination_teste_009_dez_05_2019.ipynb\n",
            "Features_Determination_teste_010_dez_06_2019.ipynb\n",
            "Go2BlackWhite.py\n",
            "Go2GLCM.py\n",
            "Go2Mahotas.py\n",
            "GrBuInd.zip\n",
            "Image_teste_001_out_30_2019.ipynb\n",
            "K_Nearest_Neighbors_fotos_01_dez_17_2019.ipynb\n",
            "K_Nearest_Neighbors_fotos_02_dez_17_2019.ipynb\n",
            "K_Nearest_Neighbors_fotos_03_dez_17_2019.ipynb\n",
            "K_Nearest_Neighbors_fotos_04_dez_17_2019.ipynb\n",
            "Mahotas_Fracionado_teste_001_nov_11_2019.ipynb\n",
            "Mahotas_Fracionado_teste_002_nov_11_2019.ipynb\n",
            "Mahotas_Fracionado_teste_003_nov_11_2019.ipynb\n",
            "Mahotas_Fracionado_teste_004_nov_11_2019.ipynb\n",
            "Mahotas_Fracionado_teste_005_nov_14_2019.ipynb\n",
            "Mahotas_Fracionado_teste_006_nov_14_2019.ipynb\n",
            "Mahotas_Fracionado_teste_007_nov_14_2019.ipynb\n",
            "Mahotas_Fracionado_teste_008_nov_16_2019.ipynb\n",
            "Mahotas_Fracionado_teste_009_nov_18_2019.ipynb\n",
            "Mahotas_Fracionado_teste_010_nov_18_2019.ipynb\n",
            "Mahotas_teste_001_nov_08_2019.ipynb\n",
            "Mahotas_teste_002_nov_08_2019.ipynb\n",
            "Mahotas_teste_003_nov_08_2019.ipynb\n",
            "Mahotas_teste_004_nov_08_2019.ipynb\n",
            "Matriz_rede_teste_001_dez_10_2019.ipynb\n",
            "Matriz_rede_teste_002_dez_10_2019.ipynb\n",
            "Matriz_rede_teste_003_dez_10_2019.ipynb\n",
            "Matriz_rede_teste_004_dez_12_2019.ipynb\n",
            "Matriz_rede_teste_005_dez_12_2019.ipynb\n",
            "Matriz_rede_teste_006_dez_12_2019.ipynb\n",
            "Matriz_rede_teste_007_dez_16_2019.ipynb\n",
            "Matriz_rede_teste_008_dez_17_2019.ipynb\n",
            "Matriz_rede_teste_009_dez_17_2019.ipynb\n",
            "plain-white-background.jpg\n",
            "__pycache__\n",
            "Q6-2-1-B10.jpg\n",
            "Q6-2-1-B1.jpg\n",
            "Q6-2-1-B2.jpg\n",
            "Q6-2-1-B3.jpg\n",
            "Q6-2-1-B4.jpg\n",
            "Q6-2-1-B5.jpg\n",
            "Q6-2-1-B6.jpg\n",
            "Q6-2-1-B7.jpg\n",
            "Q6-2-1-B8.jpg\n",
            "Q6-2-1-B9.jpg\n",
            "Q6-2-1-G10.jpg\n",
            "Q6-2-1-G1.jpg\n",
            "Q6-2-1-G2.jpg\n",
            "Q6-2-1-G3.jpg\n",
            "Q6-2-1-G4.jpg\n",
            "Q6-2-1-G5.jpg\n",
            "Q6-2-1-G6.jpg\n",
            "Q6-2-1-G7.jpg\n",
            "Q6-2-1-G8.jpg\n",
            "Q6-2-1-G9.jpg\n",
            "Q6-2-1-I10.jpg\n",
            "Q6-2-1-I1.jpg\n",
            "Q6-2-1-I2.jpg\n",
            "Q6-2-1-I3.jpg\n",
            "Q6-2-1-I4.jpg\n",
            "Q6-2-1-I5.jpg\n",
            "Q6-2-1-I6.jpg\n",
            "Q6-2-1-I7.jpg\n",
            "Q6-2-1-I8.jpg\n",
            "Q6-2-1-I9.jpg\n",
            "Q6-2-1.jpg\n",
            "Q6-2-2-B10.jpg\n",
            "Q6-2-2-B1.jpg\n",
            "Q6-2-2-B2.jpg\n",
            "Q6-2-2-B3.jpg\n",
            "Q6-2-2-B4.jpg\n",
            "Q6-2-2-B5.jpg\n",
            "Q6-2-2-B6.jpg\n",
            "Q6-2-2-B7.jpg\n",
            "Q6-2-2-B8.jpg\n",
            "Q6-2-2-B9.jpg\n",
            "Q6-2-2-G10.jpg\n",
            "Q6-2-2-G1.jpg\n",
            "Q6-2-2-G2.jpg\n",
            "Q6-2-2-G3.jpg\n",
            "Q6-2-2-G4.jpg\n",
            "Q6-2-2-G5.jpg\n",
            "Q6-2-2-G6.jpg\n",
            "Q6-2-2-G7.jpg\n",
            "Q6-2-2-G8.jpg\n",
            "Q6-2-2-G9.jpg\n",
            "Q6-2-2-I10.jpg\n",
            "Q6-2-2-I1.jpg\n",
            "Q6-2-2-I2.jpg\n",
            "Q6-2-2-I3.jpg\n",
            "Q6-2-2-I4.jpg\n",
            "Q6-2-2-I5.jpg\n",
            "Q6-2-2-I6.jpg\n",
            "Q6-2-2-I7.jpg\n",
            "Q6-2-2-I8.jpg\n",
            "Q6-2-2-I9.jpg\n",
            "Q6-2-2.jpg\n",
            "Q6-3-1-B10.jpg\n",
            "Q6-3-1-B1.jpg\n",
            "Q6-3-1-B2.jpg\n",
            "Q6-3-1-B3.jpg\n",
            "Q6-3-1-B4.jpg\n",
            "Q6-3-1-B5.jpg\n",
            "Q6-3-1-B6.jpg\n",
            "Q6-3-1-B7.jpg\n",
            "Q6-3-1-B8.jpg\n",
            "Q6-3-1-B9.jpg\n",
            "Q6-3-1-G10.jpg\n",
            "Q6-3-1-G1.jpg\n",
            "Q6-3-1-G2.jpg\n",
            "Q6-3-1-G3.jpg\n",
            "Q6-3-1-G4.jpg\n",
            "Q6-3-1-G5.jpg\n",
            "Q6-3-1-G6.jpg\n",
            "Q6-3-1-G7.jpg\n",
            "Q6-3-1-G8.jpg\n",
            "Q6-3-1-G9.jpg\n",
            "Q6-3-1-I10.jpg\n",
            "Q6-3-1-I1.jpg\n",
            "Q6-3-1-I2.jpg\n",
            "Q6-3-1-I3.jpg\n",
            "Q6-3-1-I4.jpg\n",
            "Q6-3-1-I5.jpg\n",
            "Q6-3-1-I6.jpg\n",
            "Q6-3-1-I7.jpg\n",
            "Q6-3-1-I8.jpg\n",
            "Q6-3-1-I9.jpg\n",
            "Q6-3-1.jpg\n",
            "Q6-3-2-B10.jpg\n",
            "Q6-3-2-B1.jpg\n",
            "Q6-3-2-B2.jpg\n",
            "Q6-3-2-B3.jpg\n",
            "Q6-3-2-B4.jpg\n",
            "Q6-3-2-B5.jpg\n",
            "Q6-3-2-B6.jpg\n",
            "Q6-3-2-B7.jpg\n",
            "Q6-3-2-B8.jpg\n",
            "Q6-3-2-B9.jpg\n",
            "Q6-3-2-G10.jpg\n",
            "Q6-3-2-G1.jpg\n",
            "Q6-3-2-G2.jpg\n",
            "Q6-3-2-G3.jpg\n",
            "Q6-3-2-G4.jpg\n",
            "Q6-3-2-G5.jpg\n",
            "Q6-3-2-G6.jpg\n",
            "Q6-3-2-G7.jpg\n",
            "Q6-3-2-G8.jpg\n",
            "Q6-3-2-G9.jpg\n",
            "Q6-3-2-I10.jpg\n",
            "Q6-3-2-I1.jpg\n",
            "Q6-3-2-I2.jpg\n",
            "Q6-3-2-I3.jpg\n",
            "Q6-3-2-I4.jpg\n",
            "Q6-3-2-I5.jpg\n",
            "Q6-3-2-I6.jpg\n",
            "Q6-3-2-I7.jpg\n",
            "Q6-3-2-I8.jpg\n",
            "Q6-3-2-I9.jpg\n",
            "Q6-3-2.jpg\n",
            "README.md\n",
            "Regressao_Linear_jun_14_2019.ipynb\n",
            "Sugar_01_abril_25_2019.ipynb\n",
            "Sugar_02_abril_25_2019.ipynb\n",
            "Sugar_03_abril_25_2019.ipynb\n",
            "Sugar_04_abril_25_2019.ipynb\n",
            "Sugar_05_abril_25_2019.ipynb\n",
            "Sugar_06_maio_02_2019.ipynb\n",
            "Sugar_07_maio_02_2019.ipynb\n",
            "Sugar_08_maio_06_2019.ipynb\n",
            "Sugar_09_maio_06_2019.ipynb\n",
            "Sugar_10_maio_24_2019.ipynb\n",
            "Sugar_11_maio_24_2019.ipynb\n",
            "Sugar_12_jun_04_2019.ipynb\n",
            "Sugar_13_jun_06_2019.ipynb\n",
            "SVM_fotos_01_dez_17_2019.ipynb\n",
            "SVM_fotos_02_dez_17_2019.ipynb\n"
          ],
          "name": "stdout"
        }
      ]
    },
    {
      "cell_type": "code",
      "metadata": {
        "id": "XkxKux0IA_mC",
        "colab_type": "code",
        "outputId": "50c83668-d5ed-4b32-8cad-24d1a8d14da7",
        "colab": {
          "base_uri": "https://localhost:8080/",
          "height": 1000
        }
      },
      "source": [
        "'''\n",
        "!git clone https://github.com/marquesgabi/Doutorado #clonar do Github\n",
        "%cd /Doutorado\n",
        "'''\n",
        "Transfere='Fotos9Amostras.zip'\n",
        "!ls"
      ],
      "execution_count": 0,
      "outputs": [
        {
          "output_type": "stream",
          "text": [
            "Analise_ajuste_modelos_jun_16_2019.ipynb\n",
            "ANN_fotos_01_dez_19_2019.ipynb\n",
            "ANN_fotos_02_dez_19_2019.ipynb\n",
            "ANN_fotos_03_dez_19_2019.ipynb\n",
            "ANN_fotos_04_dez_19_2019.ipynb\n",
            "ANN_fotos_05_dez_19_2019.ipynb\n",
            "ANN_fotos_06_dez_19_2019.ipynb\n",
            "ANN_fotos_modifica_variaveis_01_jan_20_2020.ipynb\n",
            "Calculo_001_set_30_2019.ipynb\n",
            "Calculo_002_set_30_2019.ipynb\n",
            "Calculo_003_out_03_2019.ipynb\n",
            "Calculo_004_out_14_2019.ipynb\n",
            "Calculo_005_out_17_2019.ipynb\n",
            "Calculo_006_out_21_2019.ipynb\n",
            "Calculo_007_out_21_2019.ipynb\n",
            "Calculo_008_out_23_2019.ipynb\n",
            "Calculo_009_out_24_2019.ipynb\n",
            "Calculo_010_out_24_2019.ipynb\n",
            "Calculo_011_out_24_2019.ipynb\n",
            "Calculo_012_out_24_2019.ipynb\n",
            "Calculo_013_out_30_2019.ipynb\n",
            "Calculo_014_out_30_2019.ipynb\n",
            "Calculo_015_out_30_2019.ipynb\n",
            "Calculo_016_out_30_2019.ipynb\n",
            "Calculo_017_out_31_2019.ipynb\n",
            "Calculo_018_out_31_2019.ipynb\n",
            "Calculo_019_out_31_2019.ipynb\n",
            "Calculo_020_NOV_01_2019.ipynb\n",
            "Calculo_021_NOV_01_2019.ipynb\n",
            "Calculo_022_NOV_07_2019.ipynb\n",
            "Calculo_023_NOV_07_2019.ipynb\n",
            "Calculo_024_NOV_12_2019.ipynb\n",
            "Cristais_Virtuais_distribui_jun_28_2019.ipynb\n",
            "Cristais_Virtuais_Estatistica_jun_28_2019.ipynb\n",
            "Cristais_Virtuais_jun_23_2019.ipynb\n",
            "Doutorado\n",
            "Extracting_retangles_001.ipynb\n",
            "Extracting_retangles_002.ipynb\n",
            "Extracting_retangles_003.ipynb\n",
            "Extracting_retangles_004.ipynb\n",
            "Features_Determination_teste_001_dez_03_2019.ipynb\n",
            "Features_Determination_teste_002_dez_03_2019.ipynb\n",
            "Features_Determination_teste_003_dez_03_2019.ipynb\n",
            "Features_Determination_teste_004_dez_03_2019.ipynb\n",
            "Features_Determination_teste_005_dez_03_2019.ipynb\n",
            "Features_Determination_teste_006_dez_03_2019.ipynb\n",
            "Features_Determination_teste_007_dez_05_2019.ipynb\n",
            "Features_Determination_teste_008_dez_05_2019.ipynb\n",
            "Features_Determination_teste_009_dez_05_2019.ipynb\n",
            "Features_Determination_teste_010_dez_06_2019.ipynb\n",
            "Go2BlackWhite.py\n",
            "Go2GLCM.py\n",
            "Go2Mahotas.py\n",
            "GrBuInd.zip\n",
            "Image_teste_001_out_30_2019.ipynb\n",
            "K_Nearest_Neighbors_fotos_01_dez_17_2019.ipynb\n",
            "K_Nearest_Neighbors_fotos_02_dez_17_2019.ipynb\n",
            "K_Nearest_Neighbors_fotos_03_dez_17_2019.ipynb\n",
            "K_Nearest_Neighbors_fotos_04_dez_17_2019.ipynb\n",
            "Mahotas_Fracionado_teste_001_nov_11_2019.ipynb\n",
            "Mahotas_Fracionado_teste_002_nov_11_2019.ipynb\n",
            "Mahotas_Fracionado_teste_003_nov_11_2019.ipynb\n",
            "Mahotas_Fracionado_teste_004_nov_11_2019.ipynb\n",
            "Mahotas_Fracionado_teste_005_nov_14_2019.ipynb\n",
            "Mahotas_Fracionado_teste_006_nov_14_2019.ipynb\n",
            "Mahotas_Fracionado_teste_007_nov_14_2019.ipynb\n",
            "Mahotas_Fracionado_teste_008_nov_16_2019.ipynb\n",
            "Mahotas_Fracionado_teste_009_nov_18_2019.ipynb\n",
            "Mahotas_Fracionado_teste_010_nov_18_2019.ipynb\n",
            "Mahotas_teste_001_nov_08_2019.ipynb\n",
            "Mahotas_teste_002_nov_08_2019.ipynb\n",
            "Mahotas_teste_003_nov_08_2019.ipynb\n",
            "Mahotas_teste_004_nov_08_2019.ipynb\n",
            "Matriz_rede_teste_001_dez_10_2019.ipynb\n",
            "Matriz_rede_teste_002_dez_10_2019.ipynb\n",
            "Matriz_rede_teste_003_dez_10_2019.ipynb\n",
            "Matriz_rede_teste_004_dez_12_2019.ipynb\n",
            "Matriz_rede_teste_005_dez_12_2019.ipynb\n",
            "Matriz_rede_teste_006_dez_12_2019.ipynb\n",
            "Matriz_rede_teste_007_dez_16_2019.ipynb\n",
            "Matriz_rede_teste_008_dez_17_2019.ipynb\n",
            "Matriz_rede_teste_009_dez_17_2019.ipynb\n",
            "plain-white-background.jpg\n",
            "__pycache__\n",
            "Q6-2-1-B10.jpg\n",
            "Q6-2-1-B1.jpg\n",
            "Q6-2-1-B2.jpg\n",
            "Q6-2-1-B3.jpg\n",
            "Q6-2-1-B4.jpg\n",
            "Q6-2-1-B5.jpg\n",
            "Q6-2-1-B6.jpg\n",
            "Q6-2-1-B7.jpg\n",
            "Q6-2-1-B8.jpg\n",
            "Q6-2-1-B9.jpg\n",
            "Q6-2-1-G10.jpg\n",
            "Q6-2-1-G1.jpg\n",
            "Q6-2-1-G2.jpg\n",
            "Q6-2-1-G3.jpg\n",
            "Q6-2-1-G4.jpg\n",
            "Q6-2-1-G5.jpg\n",
            "Q6-2-1-G6.jpg\n",
            "Q6-2-1-G7.jpg\n",
            "Q6-2-1-G8.jpg\n",
            "Q6-2-1-G9.jpg\n",
            "Q6-2-1-I10.jpg\n",
            "Q6-2-1-I1.jpg\n",
            "Q6-2-1-I2.jpg\n",
            "Q6-2-1-I3.jpg\n",
            "Q6-2-1-I4.jpg\n",
            "Q6-2-1-I5.jpg\n",
            "Q6-2-1-I6.jpg\n",
            "Q6-2-1-I7.jpg\n",
            "Q6-2-1-I8.jpg\n",
            "Q6-2-1-I9.jpg\n",
            "Q6-2-1.jpg\n",
            "Q6-2-2-B10.jpg\n",
            "Q6-2-2-B1.jpg\n",
            "Q6-2-2-B2.jpg\n",
            "Q6-2-2-B3.jpg\n",
            "Q6-2-2-B4.jpg\n",
            "Q6-2-2-B5.jpg\n",
            "Q6-2-2-B6.jpg\n",
            "Q6-2-2-B7.jpg\n",
            "Q6-2-2-B8.jpg\n",
            "Q6-2-2-B9.jpg\n",
            "Q6-2-2-G10.jpg\n",
            "Q6-2-2-G1.jpg\n",
            "Q6-2-2-G2.jpg\n",
            "Q6-2-2-G3.jpg\n",
            "Q6-2-2-G4.jpg\n",
            "Q6-2-2-G5.jpg\n",
            "Q6-2-2-G6.jpg\n",
            "Q6-2-2-G7.jpg\n",
            "Q6-2-2-G8.jpg\n",
            "Q6-2-2-G9.jpg\n",
            "Q6-2-2-I10.jpg\n",
            "Q6-2-2-I1.jpg\n",
            "Q6-2-2-I2.jpg\n",
            "Q6-2-2-I3.jpg\n",
            "Q6-2-2-I4.jpg\n",
            "Q6-2-2-I5.jpg\n",
            "Q6-2-2-I6.jpg\n",
            "Q6-2-2-I7.jpg\n",
            "Q6-2-2-I8.jpg\n",
            "Q6-2-2-I9.jpg\n",
            "Q6-2-2.jpg\n",
            "Q6-3-1-B10.jpg\n",
            "Q6-3-1-B1.jpg\n",
            "Q6-3-1-B2.jpg\n",
            "Q6-3-1-B3.jpg\n",
            "Q6-3-1-B4.jpg\n",
            "Q6-3-1-B5.jpg\n",
            "Q6-3-1-B6.jpg\n",
            "Q6-3-1-B7.jpg\n",
            "Q6-3-1-B8.jpg\n",
            "Q6-3-1-B9.jpg\n",
            "Q6-3-1-G10.jpg\n",
            "Q6-3-1-G1.jpg\n",
            "Q6-3-1-G2.jpg\n",
            "Q6-3-1-G3.jpg\n",
            "Q6-3-1-G4.jpg\n",
            "Q6-3-1-G5.jpg\n",
            "Q6-3-1-G6.jpg\n",
            "Q6-3-1-G7.jpg\n",
            "Q6-3-1-G8.jpg\n",
            "Q6-3-1-G9.jpg\n",
            "Q6-3-1-I10.jpg\n",
            "Q6-3-1-I1.jpg\n",
            "Q6-3-1-I2.jpg\n",
            "Q6-3-1-I3.jpg\n",
            "Q6-3-1-I4.jpg\n",
            "Q6-3-1-I5.jpg\n",
            "Q6-3-1-I6.jpg\n",
            "Q6-3-1-I7.jpg\n",
            "Q6-3-1-I8.jpg\n",
            "Q6-3-1-I9.jpg\n",
            "Q6-3-1.jpg\n",
            "Q6-3-2-B10.jpg\n",
            "Q6-3-2-B1.jpg\n",
            "Q6-3-2-B2.jpg\n",
            "Q6-3-2-B3.jpg\n",
            "Q6-3-2-B4.jpg\n",
            "Q6-3-2-B5.jpg\n",
            "Q6-3-2-B6.jpg\n",
            "Q6-3-2-B7.jpg\n",
            "Q6-3-2-B8.jpg\n",
            "Q6-3-2-B9.jpg\n",
            "Q6-3-2-G10.jpg\n",
            "Q6-3-2-G1.jpg\n",
            "Q6-3-2-G2.jpg\n",
            "Q6-3-2-G3.jpg\n",
            "Q6-3-2-G4.jpg\n",
            "Q6-3-2-G5.jpg\n",
            "Q6-3-2-G6.jpg\n",
            "Q6-3-2-G7.jpg\n",
            "Q6-3-2-G8.jpg\n",
            "Q6-3-2-G9.jpg\n",
            "Q6-3-2-I10.jpg\n",
            "Q6-3-2-I1.jpg\n",
            "Q6-3-2-I2.jpg\n",
            "Q6-3-2-I3.jpg\n",
            "Q6-3-2-I4.jpg\n",
            "Q6-3-2-I5.jpg\n",
            "Q6-3-2-I6.jpg\n",
            "Q6-3-2-I7.jpg\n",
            "Q6-3-2-I8.jpg\n",
            "Q6-3-2-I9.jpg\n",
            "Q6-3-2.jpg\n",
            "README.md\n",
            "Regressao_Linear_jun_14_2019.ipynb\n",
            "Sugar_01_abril_25_2019.ipynb\n",
            "Sugar_02_abril_25_2019.ipynb\n",
            "Sugar_03_abril_25_2019.ipynb\n",
            "Sugar_04_abril_25_2019.ipynb\n",
            "Sugar_05_abril_25_2019.ipynb\n",
            "Sugar_06_maio_02_2019.ipynb\n",
            "Sugar_07_maio_02_2019.ipynb\n",
            "Sugar_08_maio_06_2019.ipynb\n",
            "Sugar_09_maio_06_2019.ipynb\n",
            "Sugar_10_maio_24_2019.ipynb\n",
            "Sugar_11_maio_24_2019.ipynb\n",
            "Sugar_12_jun_04_2019.ipynb\n",
            "Sugar_13_jun_06_2019.ipynb\n",
            "SVM_fotos_01_dez_17_2019.ipynb\n",
            "SVM_fotos_02_dez_17_2019.ipynb\n"
          ],
          "name": "stdout"
        }
      ]
    },
    {
      "cell_type": "code",
      "metadata": {
        "id": "-4cR4hqlDUBX",
        "colab_type": "code",
        "colab": {}
      },
      "source": [
        ""
      ],
      "execution_count": 0,
      "outputs": []
    },
    {
      "cell_type": "code",
      "metadata": {
        "id": "h1Zsufcm9bfv",
        "colab_type": "code",
        "outputId": "cf72b1c9-4311-471a-8284-8609959b1018",
        "colab": {
          "base_uri": "https://localhost:8080/",
          "height": 35
        }
      },
      "source": [
        "'''\n",
        "!wget http://ftp.feq.ufu.br/ubirajara/GrBuInd.zip\n",
        "Transfere='GrBuInd.zip'\n",
        "'''"
      ],
      "execution_count": 0,
      "outputs": [
        {
          "output_type": "execute_result",
          "data": {
            "text/plain": [
              "\"\\n!wget http://ftp.feq.ufu.br/ubirajara/GrBuInd.zip\\nTransfere='GrBuInd.zip'\\n\""
            ]
          },
          "metadata": {
            "tags": []
          },
          "execution_count": 7
        }
      ]
    },
    {
      "cell_type": "code",
      "metadata": {
        "id": "c43TnWalRs_H",
        "colab_type": "code",
        "outputId": "53b22f10-7147-4b94-f2b8-745d1144ca0c",
        "colab": {
          "base_uri": "https://localhost:8080/",
          "height": 316
        }
      },
      "source": [
        "file_name = zipfile.ZipFile(Transfere, 'r')\n",
        "file_name.extractall()"
      ],
      "execution_count": 0,
      "outputs": [
        {
          "output_type": "error",
          "ename": "FileNotFoundError",
          "evalue": "ignored",
          "traceback": [
            "\u001b[0;31m---------------------------------------------------------------------------\u001b[0m",
            "\u001b[0;31mFileNotFoundError\u001b[0m                         Traceback (most recent call last)",
            "\u001b[0;32m<ipython-input-8-1064b8e45da1>\u001b[0m in \u001b[0;36m<module>\u001b[0;34m()\u001b[0m\n\u001b[0;32m----> 1\u001b[0;31m \u001b[0mfile_name\u001b[0m \u001b[0;34m=\u001b[0m \u001b[0mzipfile\u001b[0m\u001b[0;34m.\u001b[0m\u001b[0mZipFile\u001b[0m\u001b[0;34m(\u001b[0m\u001b[0mTransfere\u001b[0m\u001b[0;34m,\u001b[0m \u001b[0;34m'r'\u001b[0m\u001b[0;34m)\u001b[0m\u001b[0;34m\u001b[0m\u001b[0;34m\u001b[0m\u001b[0m\n\u001b[0m\u001b[1;32m      2\u001b[0m \u001b[0mfile_name\u001b[0m\u001b[0;34m.\u001b[0m\u001b[0mextractall\u001b[0m\u001b[0;34m(\u001b[0m\u001b[0;34m)\u001b[0m\u001b[0;34m\u001b[0m\u001b[0;34m\u001b[0m\u001b[0m\n",
            "\u001b[0;32m/usr/lib/python3.6/zipfile.py\u001b[0m in \u001b[0;36m__init__\u001b[0;34m(self, file, mode, compression, allowZip64)\u001b[0m\n\u001b[1;32m   1111\u001b[0m             \u001b[0;32mwhile\u001b[0m \u001b[0;32mTrue\u001b[0m\u001b[0;34m:\u001b[0m\u001b[0;34m\u001b[0m\u001b[0;34m\u001b[0m\u001b[0m\n\u001b[1;32m   1112\u001b[0m                 \u001b[0;32mtry\u001b[0m\u001b[0;34m:\u001b[0m\u001b[0;34m\u001b[0m\u001b[0;34m\u001b[0m\u001b[0m\n\u001b[0;32m-> 1113\u001b[0;31m                     \u001b[0mself\u001b[0m\u001b[0;34m.\u001b[0m\u001b[0mfp\u001b[0m \u001b[0;34m=\u001b[0m \u001b[0mio\u001b[0m\u001b[0;34m.\u001b[0m\u001b[0mopen\u001b[0m\u001b[0;34m(\u001b[0m\u001b[0mfile\u001b[0m\u001b[0;34m,\u001b[0m \u001b[0mfilemode\u001b[0m\u001b[0;34m)\u001b[0m\u001b[0;34m\u001b[0m\u001b[0;34m\u001b[0m\u001b[0m\n\u001b[0m\u001b[1;32m   1114\u001b[0m                 \u001b[0;32mexcept\u001b[0m \u001b[0mOSError\u001b[0m\u001b[0;34m:\u001b[0m\u001b[0;34m\u001b[0m\u001b[0;34m\u001b[0m\u001b[0m\n\u001b[1;32m   1115\u001b[0m                     \u001b[0;32mif\u001b[0m \u001b[0mfilemode\u001b[0m \u001b[0;32min\u001b[0m \u001b[0mmodeDict\u001b[0m\u001b[0;34m:\u001b[0m\u001b[0;34m\u001b[0m\u001b[0;34m\u001b[0m\u001b[0m\n",
            "\u001b[0;31mFileNotFoundError\u001b[0m: [Errno 2] No such file or directory: 'Fotos9Amostras.zip'"
          ]
        }
      ]
    },
    {
      "cell_type": "code",
      "metadata": {
        "id": "GrLtSCRor_By",
        "colab_type": "code",
        "colab": {}
      },
      "source": [
        "# print(img_name)\n",
        "print(Size)"
      ],
      "execution_count": 0,
      "outputs": []
    },
    {
      "cell_type": "code",
      "metadata": {
        "id": "nzaFMOSo_nFW",
        "colab_type": "code",
        "colab": {}
      },
      "source": [
        "print(file_name)"
      ],
      "execution_count": 0,
      "outputs": []
    },
    {
      "cell_type": "code",
      "metadata": {
        "colab_type": "code",
        "id": "qCKcPafHsAuJ",
        "colab": {}
      },
      "source": [
        "# ww contain all photos in black and white\n",
        "ww,img_name=Go2BlackWhite.BlackWhite(Transfere,Size)\n",
        "# plt.axis(\"off\")\n",
        "# plt.imshow(ww[0], cmap = \"gray\")"
      ],
      "execution_count": 0,
      "outputs": []
    },
    {
      "cell_type": "code",
      "metadata": {
        "id": "Vi1KNBztICWH",
        "colab_type": "code",
        "colab": {}
      },
      "source": [
        "print(np.mean(ww[0]))"
      ],
      "execution_count": 0,
      "outputs": []
    },
    {
      "cell_type": "code",
      "metadata": {
        "id": "pMJdA-nxIpQO",
        "colab_type": "code",
        "colab": {}
      },
      "source": [
        "Num,Row,Col=np.asarray(ww).shape\n",
        "Idx=[]\n",
        "New_Colunm=[]\n",
        "\n",
        "for i in range(Num):\n",
        "  Media=np.mean(ww[i])\n",
        "  k=np.where(ww[i].ravel() > Media)\n",
        "  Idx.append(np.asarray(k).ravel())\n",
        "\n",
        "Quant=Size*Size\n",
        "for i in Idx:\n",
        "  #print(i)\n",
        "  New_Colunm.append(len(i)/Quant)\n",
        "print(New_Colunm)"
      ],
      "execution_count": 0,
      "outputs": []
    },
    {
      "cell_type": "code",
      "metadata": {
        "id": "LKmJaSroR9XJ",
        "colab_type": "code",
        "colab": {}
      },
      "source": [
        "print(len(New_Colunm))"
      ],
      "execution_count": 0,
      "outputs": []
    },
    {
      "cell_type": "code",
      "metadata": {
        "id": "MukX2r3ys3tm",
        "colab_type": "code",
        "colab": {}
      },
      "source": [
        "# Find the list elements starting with specific letter\n",
        "subs = 'B'\n",
        "Buraco = [x for x in img_name if re.search(subs, x)] \n",
        "subs = 'G'\n",
        "Grao = [x for x in img_name if re.search(subs, x)] \n",
        "subs = 'I'\n",
        "Indef = [x for x in img_name if re.search(subs, x)] "
      ],
      "execution_count": 0,
      "outputs": []
    },
    {
      "cell_type": "code",
      "metadata": {
        "id": "U2ymyUPFiADf",
        "colab_type": "code",
        "colab": {}
      },
      "source": [
        "j=0\n",
        "cont=-1\n",
        "Posicao_Buraco=[]\n",
        "for i in img_name:\n",
        "  cont=cont+1\n",
        "  for k in Buraco:\n",
        "    if(i==k):\n",
        "      Posicao_Buraco.append(cont)\n",
        "j=0\n",
        "cont=-1\n",
        "Posicao_Grao=[]\n",
        "for i in img_name:\n",
        "  cont=cont+1\n",
        "  for k in Grao:\n",
        "    if(i==k):\n",
        "      Posicao_Grao.append(cont)\n",
        "\n",
        "j=0\n",
        "cont=-1\n",
        "Posicao_Indef=[]\n",
        "for i in img_name:\n",
        "  cont=cont+1\n",
        "  for k in Indef:\n",
        "    if(i==k):\n",
        "      Posicao_Indef.append(cont)\n",
        "\n",
        "# print(Posicao_Grao)\n",
        "# print(Posicao_Buraco)\n",
        "# print(Posicao_Indef)\n"
      ],
      "execution_count": 0,
      "outputs": []
    },
    {
      "cell_type": "code",
      "metadata": {
        "id": "23vdxpKHZEzN",
        "colab_type": "code",
        "colab": {}
      },
      "source": [
        "print(np.asarray(New_Colunm)[Posicao_Buraco])"
      ],
      "execution_count": 0,
      "outputs": []
    },
    {
      "cell_type": "code",
      "metadata": {
        "id": "9fPIt0WQfehg",
        "colab_type": "code",
        "colab": {}
      },
      "source": [
        "Nomes=['Color' ]\n",
        "matriz_x_b=np.asarray(New_Colunm)[Posicao_Buraco]\n",
        "df_buraco=pd.DataFrame(matriz_x_b,columns=Nomes) # print(df_buraco.head())\n",
        "matriz_x_g=np.asarray(New_Colunm)[Posicao_Grao]\n",
        "df_grao=pd.DataFrame(matriz_x_g,columns=Nomes)  # print(df_grao.head())\n",
        "matriz_x_i=np.asarray(New_Colunm)[Posicao_Indef]\n",
        "df_indef=pd.DataFrame(matriz_x_i,columns=Nomes) # print(df_indef.head())\n",
        "#print(df_buraco)\n",
        "#print(df_grao)\n",
        "#print(df_indef)"
      ],
      "execution_count": 0,
      "outputs": []
    },
    {
      "cell_type": "code",
      "metadata": {
        "id": "LxIrsxxQheWI",
        "colab_type": "code",
        "colab": {}
      },
      "source": [
        "df_grao.insert(0, \"Type\", \"grao\") \n",
        "print(df_grao.head())"
      ],
      "execution_count": 0,
      "outputs": []
    },
    {
      "cell_type": "code",
      "metadata": {
        "id": "vC8z3p0PiBvl",
        "colab_type": "code",
        "colab": {}
      },
      "source": [
        "df_indef.insert(0, \"Type\", \"indef\") \n",
        "print(df_indef.head())\n"
      ],
      "execution_count": 0,
      "outputs": []
    },
    {
      "cell_type": "code",
      "metadata": {
        "id": "Sn3PtvEViCft",
        "colab_type": "code",
        "colab": {}
      },
      "source": [
        "df_buraco.insert(0, \"Type\", \"buraco\") \n",
        "print(df_buraco.head())"
      ],
      "execution_count": 0,
      "outputs": []
    }
  ]
}