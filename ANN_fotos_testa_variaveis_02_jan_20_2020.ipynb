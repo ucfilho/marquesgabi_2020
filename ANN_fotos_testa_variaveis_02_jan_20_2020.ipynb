{
  "nbformat": 4,
  "nbformat_minor": 0,
  "metadata": {
    "colab": {
      "name": "ANN_fotos_testa_variaveis_02_jan_20_2020.ipynb",
      "provenance": [],
      "collapsed_sections": [],
      "include_colab_link": true
    },
    "kernelspec": {
      "name": "python3",
      "display_name": "Python 3"
    }
  },
  "cells": [
    {
      "cell_type": "markdown",
      "metadata": {
        "id": "view-in-github",
        "colab_type": "text"
      },
      "source": [
        "<a href=\"https://colab.research.google.com/github/ucfilho/marquesgabi_2020/blob/master/ANN_fotos_testa_variaveis_02_jan_20_2020.ipynb\" target=\"_parent\"><img src=\"https://colab.research.google.com/assets/colab-badge.svg\" alt=\"Open In Colab\"/></a>"
      ]
    },
    {
      "cell_type": "code",
      "metadata": {
        "id": "uPzMNtMQeqs-",
        "colab_type": "code",
        "colab": {}
      },
      "source": [
        "from sklearn.model_selection import train_test_split\n",
        "import numpy as np\n",
        "import cv2\n",
        "import math\n",
        "import pandas as pd\n",
        "from sklearn.neural_network import MLPRegressor\n",
        "from sklearn.neural_network import MLPClassifier\n",
        "from sklearn.metrics import mean_squared_error\n",
        "from sklearn.metrics import r2_score \n",
        "from mpl_toolkits.mplot3d import Axes3D, axes3d\n",
        "from sklearn.metrics import classification_report, confusion_matrix\n",
        "import matplotlib.pyplot as plt\n",
        "import matplotlib\n",
        "%matplotlib inline"
      ],
      "execution_count": 0,
      "outputs": []
    },
    {
      "cell_type": "code",
      "metadata": {
        "id": "OqImBAP-3H6M",
        "colab_type": "code",
        "colab": {}
      },
      "source": [
        "#@title Digite os parametros { run: \"auto\", vertical-output: true }\n",
        "#@markdown Enter neurons hidden layer\n",
        "N_Hidden=18  #@param {type:\"number\"}\n",
        "#@markdown Activation function\n",
        "\n",
        "Ativa='logistic'#@param [\"tanh\", \"identity\", \"logistic\",\"relu\"] {allow-input: true}"
      ],
      "execution_count": 0,
      "outputs": []
    },
    {
      "cell_type": "code",
      "metadata": {
        "id": "4vZxttY2XZ2e",
        "colab_type": "code",
        "colab": {}
      },
      "source": [
        "# funcao normatiza dados\n",
        "def Normatiza(x):\n",
        "    strings=list(x)\n",
        "    for i in strings:\n",
        "        max_x=x[i].max()\n",
        "        min_x=x[i].min()\n",
        "        a=(max_x+min_x)/2\n",
        "        b=(max_x-min_x)/2\n",
        "        x[i]=(x[i]-a)/b\n",
        "    return x"
      ],
      "execution_count": 0,
      "outputs": []
    },
    {
      "cell_type": "code",
      "metadata": {
        "id": "quDi173pXomN",
        "colab_type": "code",
        "colab": {}
      },
      "source": [
        "# funcao retorna os dados a forma original\n",
        "def Original(x,x_old):\n",
        "    strings=list(x)\n",
        "    for i in strings:\n",
        "        max_x=x_old[i].max()\n",
        "        min_x=x_old[i].min()\n",
        "        a=(max_x+min_x)/2\n",
        "        b=(max_x-min_x)/2\n",
        "        x[i]=x[i]*b+a\n",
        "    return x"
      ],
      "execution_count": 0,
      "outputs": []
    },
    {
      "cell_type": "code",
      "metadata": {
        "id": "o4y_z_-ge57N",
        "colab_type": "code",
        "outputId": "7365c34c-dc52-4385-dfeb-5847f8955104",
        "colab": {
          "base_uri": "https://localhost:8080/",
          "height": 218
        }
      },
      "source": [
        "!wget http://ftp.feq.ufu.br/ubirajara/Fotos_Treina_ANN_dez_2019.csv\n",
        "Transfere='Fotos_Treina_ANN_dez_2019.csv'"
      ],
      "execution_count": 5,
      "outputs": [
        {
          "output_type": "stream",
          "text": [
            "--2020-01-20 15:05:27--  http://ftp.feq.ufu.br/ubirajara/Fotos_Treina_ANN_dez_2019.csv\n",
            "Resolving ftp.feq.ufu.br (ftp.feq.ufu.br)... 200.19.144.11\n",
            "Connecting to ftp.feq.ufu.br (ftp.feq.ufu.br)|200.19.144.11|:80... connected.\n",
            "HTTP request sent, awaiting response... 200 OK\n",
            "Length: 21508 (21K) [text/csv]\n",
            "Saving to: ‘Fotos_Treina_ANN_dez_2019.csv.4’\n",
            "\n",
            "Fotos_Treina_ANN_de 100%[===================>]  21.00K  22.1KB/s    in 1.0s    \n",
            "\n",
            "2020-01-20 15:05:29 (22.1 KB/s) - ‘Fotos_Treina_ANN_dez_2019.csv.4’ saved [21508/21508]\n",
            "\n"
          ],
          "name": "stdout"
        }
      ]
    },
    {
      "cell_type": "code",
      "metadata": {
        "id": "es7O1fUjfK2o",
        "colab_type": "code",
        "colab": {}
      },
      "source": [
        "df= pd.read_csv(Transfere) "
      ],
      "execution_count": 0,
      "outputs": []
    },
    {
      "cell_type": "code",
      "metadata": {
        "id": "pGiKBg17CYAw",
        "colab_type": "code",
        "outputId": "5dd2c4a9-afce-4468-ad3d-9d953efcadc2",
        "colab": {
          "base_uri": "https://localhost:8080/",
          "height": 90
        }
      },
      "source": [
        "pd.set_option('display.max_columns', None)  \n",
        "pd.set_option('display.expand_frame_repr', False)\n",
        "pd.set_option('max_colwidth', -1)\n",
        "print(df.columns)"
      ],
      "execution_count": 7,
      "outputs": [
        {
          "output_type": "stream",
          "text": [
            "Index(['Unnamed: 0', 'Type', 'no.peaks', 'Media_proem', 'area under',\n",
            "       'Width_peaks', 'Width_peaks_max', 'Width_peaks_min', 'Median', 'Mode',\n",
            "       'Mean', 'Sd'],\n",
            "      dtype='object')\n"
          ],
          "name": "stdout"
        }
      ]
    },
    {
      "cell_type": "code",
      "metadata": {
        "id": "cytkRXeDgL7P",
        "colab_type": "code",
        "colab": {}
      },
      "source": [
        "df['Type'] = df['Type'].map({'buraco':1, 'grao':2, 'indef':3}) "
      ],
      "execution_count": 0,
      "outputs": []
    },
    {
      "cell_type": "code",
      "metadata": {
        "id": "1gVOPf_LhXhb",
        "colab_type": "code",
        "colab": {
          "base_uri": "https://localhost:8080/",
          "height": 236
        },
        "outputId": "ece07a39-20c2-4cf9-c4bb-dc94dd7d34ef"
      },
      "source": [
        "\n",
        "Colunms=['no.peaks', 'Media_proem', 'area under','Width_peaks',\n",
        "         'Width_peaks_max', 'Width_peaks_min', 'Median', 'Mode',\n",
        "         'Mean', 'Sd']\n",
        "'''\n",
        "Colunms=['no.peaks', 'Media_proem', 'area under','Width_peaks',\n",
        "         'Median', 'Mode',\n",
        "         'Mean', 'Sd']\n",
        "'''\n",
        "#X=df.iloc[:,2:12]\n",
        "#y=df.iloc[:,1].astype(int)\n",
        "X=df[Colunms]\n",
        "#y=df['Type'].astype(int)\n",
        "y=df['Type']\n",
        "print(y)"
      ],
      "execution_count": 9,
      "outputs": [
        {
          "output_type": "stream",
          "text": [
            "0      1\n",
            "1      1\n",
            "2      1\n",
            "3      1\n",
            "4      1\n",
            "      ..\n",
            "115    3\n",
            "116    3\n",
            "117    3\n",
            "118    3\n",
            "119    3\n",
            "Name: Type, Length: 120, dtype: int64\n"
          ],
          "name": "stdout"
        }
      ]
    },
    {
      "cell_type": "code",
      "metadata": {
        "id": "9zv4ex55RNB5",
        "colab_type": "code",
        "colab": {
          "base_uri": "https://localhost:8080/",
          "height": 275
        },
        "outputId": "93caa5ae-7311-4034-bca3-3320b7d7804e"
      },
      "source": [
        "print(df.corr(method ='pearson'))"
      ],
      "execution_count": 10,
      "outputs": [
        {
          "output_type": "stream",
          "text": [
            "                 Unnamed: 0      Type  no.peaks  Media_proem  area under  Width_peaks  Width_peaks_max  Width_peaks_min    Median      Mode      Mean        Sd\n",
            "Unnamed: 0       1.000000    0.000000  0.112320 -0.102386    -0.076443   -0.074573     0.014809        -0.102254        -0.146656 -0.026923 -0.075613  0.033739\n",
            "Type             0.000000    1.000000 -0.139996  0.216028    -0.154951    0.125141     0.020333        -0.026574        -0.040544  0.052604 -0.160519 -0.309648\n",
            "no.peaks         0.112320   -0.139996  1.000000 -0.162566    -0.141823   -0.221004     0.330808        -0.371817        -0.160602 -0.085007 -0.141183 -0.033249\n",
            "Media_proem     -0.102386    0.216028 -0.162566  1.000000     0.113582    0.794297     0.466941         0.171858         0.149918  0.070092  0.111897  0.028565\n",
            "area under      -0.076443   -0.154951 -0.141823  0.113582     1.000000    0.326182     0.080327         0.235838         0.870330  0.720729  0.999956  0.813025\n",
            "Width_peaks     -0.074573    0.125141 -0.221004  0.794297     0.326182    1.000000     0.541221         0.326232         0.314571  0.124375  0.325225  0.259455\n",
            "Width_peaks_max  0.014809    0.020333  0.330808  0.466941     0.080327    0.541221     1.000000        -0.043304         0.068479  0.042437  0.079275  0.066562\n",
            "Width_peaks_min -0.102254   -0.026574 -0.371817  0.171858     0.235838    0.326232    -0.043304         1.000000         0.138449  0.099665  0.234746  0.203863\n",
            "Median          -0.146656   -0.040544 -0.160602  0.149918     0.870330    0.314571     0.068479         0.138449         1.000000  0.700135  0.869029  0.472752\n",
            "Mode            -0.026923    0.052604 -0.085007  0.070092     0.720729    0.124375     0.042437         0.099665         0.700135  1.000000  0.719209  0.396291\n",
            "Mean            -0.075613   -0.160519 -0.141183  0.111897     0.999956    0.325225     0.079275         0.234746         0.869029  0.719209  1.000000  0.816127\n",
            "Sd               0.033739   -0.309648 -0.033249  0.028565     0.813025    0.259455     0.066562         0.203863         0.472752  0.396291  0.816127  1.000000\n"
          ],
          "name": "stdout"
        }
      ]
    },
    {
      "cell_type": "code",
      "metadata": {
        "id": "Vf8k7I7sRnup",
        "colab_type": "code",
        "colab": {
          "base_uri": "https://localhost:8080/",
          "height": 275
        },
        "outputId": "584d7a91-5c0b-48d0-c54b-37a9ac995407"
      },
      "source": [
        "df2=df.corr(method ='pearson')\n",
        "print(df2)"
      ],
      "execution_count": 21,
      "outputs": [
        {
          "output_type": "stream",
          "text": [
            "                 Unnamed: 0      Type  no.peaks  Media_proem  area under  Width_peaks  Width_peaks_max  Width_peaks_min    Median      Mode      Mean        Sd\n",
            "Unnamed: 0       1.000000    0.000000  0.112320 -0.102386    -0.076443   -0.074573     0.014809        -0.102254        -0.146656 -0.026923 -0.075613  0.033739\n",
            "Type             0.000000    1.000000 -0.139996  0.216028    -0.154951    0.125141     0.020333        -0.026574        -0.040544  0.052604 -0.160519 -0.309648\n",
            "no.peaks         0.112320   -0.139996  1.000000 -0.162566    -0.141823   -0.221004     0.330808        -0.371817        -0.160602 -0.085007 -0.141183 -0.033249\n",
            "Media_proem     -0.102386    0.216028 -0.162566  1.000000     0.113582    0.794297     0.466941         0.171858         0.149918  0.070092  0.111897  0.028565\n",
            "area under      -0.076443   -0.154951 -0.141823  0.113582     1.000000    0.326182     0.080327         0.235838         0.870330  0.720729  0.999956  0.813025\n",
            "Width_peaks     -0.074573    0.125141 -0.221004  0.794297     0.326182    1.000000     0.541221         0.326232         0.314571  0.124375  0.325225  0.259455\n",
            "Width_peaks_max  0.014809    0.020333  0.330808  0.466941     0.080327    0.541221     1.000000        -0.043304         0.068479  0.042437  0.079275  0.066562\n",
            "Width_peaks_min -0.102254   -0.026574 -0.371817  0.171858     0.235838    0.326232    -0.043304         1.000000         0.138449  0.099665  0.234746  0.203863\n",
            "Median          -0.146656   -0.040544 -0.160602  0.149918     0.870330    0.314571     0.068479         0.138449         1.000000  0.700135  0.869029  0.472752\n",
            "Mode            -0.026923    0.052604 -0.085007  0.070092     0.720729    0.124375     0.042437         0.099665         0.700135  1.000000  0.719209  0.396291\n",
            "Mean            -0.075613   -0.160519 -0.141183  0.111897     0.999956    0.325225     0.079275         0.234746         0.869029  0.719209  1.000000  0.816127\n",
            "Sd               0.033739   -0.309648 -0.033249  0.028565     0.813025    0.259455     0.066562         0.203863         0.472752  0.396291  0.816127  1.000000\n"
          ],
          "name": "stdout"
        }
      ]
    },
    {
      "cell_type": "code",
      "metadata": {
        "id": "dZbTaHhkGqWJ",
        "colab_type": "code",
        "colab": {
          "base_uri": "https://localhost:8080/",
          "height": 147
        },
        "outputId": "d675bca3-edf1-4bb7-f8cf-b860f67e4cef"
      },
      "source": [
        "print(df.head())"
      ],
      "execution_count": 11,
      "outputs": [
        {
          "output_type": "stream",
          "text": [
            "   Unnamed: 0  Type  no.peaks  Media_proem    area under  Width_peaks  Width_peaks_max  Width_peaks_min      Median      Mode       Mean         Sd\n",
            "0  0           1     4.0       51.384595    2993.276979   38.492219    100.229477       0.616279         4.664086    1.576266  18.934430  21.464729\n",
            "1  1           1     2.0       47.626771    1315.847022   28.334735    60.077800        1.577800         3.425990    1.186329  8.392858   10.178723\n",
            "2  2           1     2.0       47.249986    1709.811993   35.353698    104.468318       1.018112         5.813794    1.019165  10.898776  14.800251\n",
            "3  3           1     4.0       70.047513    12391.952111  87.710404    156.975006       1.441023         102.551759  6.722350  77.750603  45.762334\n",
            "4  4           1     6.0       42.730606    1288.159588   30.966763    132.500000       0.508409         5.192788    1.336058  8.154355   8.389805 \n"
          ],
          "name": "stdout"
        }
      ]
    },
    {
      "cell_type": "code",
      "metadata": {
        "id": "q_R9MQraX2K_",
        "colab_type": "code",
        "colab": {
          "base_uri": "https://localhost:8080/",
          "height": 147
        },
        "outputId": "543be68e-3c3e-42bb-aa3d-0a3a37ca6636"
      },
      "source": [
        "\n",
        "# separa os dados variaveis de entrada em normatizados e originais\n",
        "X_OLD=[]\n",
        "X_OLD=X.copy()\n",
        "X=Normatiza(X)\n",
        "#print(X)\n"
      ],
      "execution_count": 12,
      "outputs": [
        {
          "output_type": "stream",
          "text": [
            "/usr/local/lib/python3.6/dist-packages/ipykernel_launcher.py:8: SettingWithCopyWarning: \n",
            "A value is trying to be set on a copy of a slice from a DataFrame.\n",
            "Try using .loc[row_indexer,col_indexer] = value instead\n",
            "\n",
            "See the caveats in the documentation: http://pandas.pydata.org/pandas-docs/stable/user_guide/indexing.html#returning-a-view-versus-a-copy\n",
            "  \n"
          ],
          "name": "stderr"
        }
      ]
    },
    {
      "cell_type": "code",
      "metadata": {
        "id": "Zi9gBj86i0V_",
        "colab_type": "code",
        "colab": {}
      },
      "source": [
        "# Train Test Split\n",
        "X_train, X_test, y_train, y_test = train_test_split(X, y, test_size=0.20, \n",
        "                                                    random_state=25)"
      ],
      "execution_count": 0,
      "outputs": []
    },
    {
      "cell_type": "code",
      "metadata": {
        "id": "YoPO53S3bif2",
        "colab_type": "code",
        "colab": {}
      },
      "source": [
        "# define a rede neural \n",
        "#N_Hidden=(18,18,18)\n",
        "\n",
        "\n",
        "clf = MLPClassifier(solver='lbfgs',activation=Ativa,alpha=1e-5,\n",
        "                    hidden_layer_sizes=N_Hidden,random_state=0)\n"
      ],
      "execution_count": 0,
      "outputs": []
    },
    {
      "cell_type": "code",
      "metadata": {
        "id": "VCd7bGM8bm04",
        "colab_type": "code",
        "outputId": "0774ad18-16c1-48fe-cc6f-77903bbc0d19",
        "colab": {
          "base_uri": "https://localhost:8080/",
          "height": 293
        }
      },
      "source": [
        "# treina a rede neural\n",
        "clf.fit(X_train, y_train)\n"
      ],
      "execution_count": 15,
      "outputs": [
        {
          "output_type": "stream",
          "text": [
            "/usr/local/lib/python3.6/dist-packages/sklearn/neural_network/_multilayer_perceptron.py:470: ConvergenceWarning: lbfgs failed to converge (status=1):\n",
            "STOP: TOTAL NO. of ITERATIONS REACHED LIMIT.\n",
            "\n",
            "Increase the number of iterations (max_iter) or scale the data as shown in:\n",
            "    https://scikit-learn.org/stable/modules/preprocessing.html\n",
            "  self.n_iter_ = _check_optimize_result(\"lbfgs\", opt_res, self.max_iter)\n"
          ],
          "name": "stderr"
        },
        {
          "output_type": "execute_result",
          "data": {
            "text/plain": [
              "MLPClassifier(activation='logistic', alpha=1e-05, batch_size='auto', beta_1=0.9,\n",
              "              beta_2=0.999, early_stopping=False, epsilon=1e-08,\n",
              "              hidden_layer_sizes=18, learning_rate='constant',\n",
              "              learning_rate_init=0.001, max_fun=15000, max_iter=200,\n",
              "              momentum=0.9, n_iter_no_change=10, nesterovs_momentum=True,\n",
              "              power_t=0.5, random_state=0, shuffle=True, solver='lbfgs',\n",
              "              tol=0.0001, validation_fraction=0.1, verbose=False,\n",
              "              warm_start=False)"
            ]
          },
          "metadata": {
            "tags": []
          },
          "execution_count": 15
        }
      ]
    },
    {
      "cell_type": "code",
      "metadata": {
        "id": "kSXYEWkmbu1p",
        "colab_type": "code",
        "colab": {}
      },
      "source": [
        "# usa a rede neural treina em calculos para treino e teste\n",
        "y_calc_train=clf.predict(X_train)\n",
        "y_pred=clf.predict(X_test)\n"
      ],
      "execution_count": 0,
      "outputs": []
    },
    {
      "cell_type": "code",
      "metadata": {
        "id": "yuJNYvbGcjVE",
        "colab_type": "code",
        "outputId": "ac7a4759-596f-4854-9689-769d2637b89a",
        "colab": {
          "base_uri": "https://localhost:8080/",
          "height": 255
        }
      },
      "source": [
        "# Evaluating the Algorithm\n",
        "print(confusion_matrix(y_pred, y_test))\n",
        "print(classification_report(y_pred, y_test))"
      ],
      "execution_count": 17,
      "outputs": [
        {
          "output_type": "stream",
          "text": [
            "[[5 4 2]\n",
            " [2 1 1]\n",
            " [1 3 5]]\n",
            "              precision    recall  f1-score   support\n",
            "\n",
            "           1       0.62      0.45      0.53        11\n",
            "           2       0.12      0.25      0.17         4\n",
            "           3       0.62      0.56      0.59         9\n",
            "\n",
            "    accuracy                           0.46        24\n",
            "   macro avg       0.46      0.42      0.43        24\n",
            "weighted avg       0.54      0.46      0.49        24\n",
            "\n"
          ],
          "name": "stdout"
        }
      ]
    },
    {
      "cell_type": "code",
      "metadata": {
        "id": "uiNqfTz1Ipkp",
        "colab_type": "code",
        "colab": {
          "base_uri": "https://localhost:8080/",
          "height": 55
        },
        "outputId": "00a9376b-82ca-477a-c53a-78f61337fa8e"
      },
      "source": [
        "'''\n",
        "[[5 4 2]\n",
        " [2 1 1]\n",
        " [1 3 5]]\n",
        "              precision    recall  f1-score   support\n",
        "\n",
        "           1       0.62      0.45      0.53        11\n",
        "           2       0.12      0.25      0.17         4\n",
        "           3       0.62      0.56      0.59         9\n",
        "\n",
        "    accuracy                           0.46        24\n",
        "   macro avg       0.46      0.42      0.43        24\n",
        "weighted avg       0.54      0.46      0.49        24\n",
        "'''"
      ],
      "execution_count": 18,
      "outputs": [
        {
          "output_type": "execute_result",
          "data": {
            "text/plain": [
              "'\\n[[5 4 2]\\n [2 1 1]\\n [1 3 5]]\\n              precision    recall  f1-score   support\\n\\n           1       0.62      0.45      0.53        11\\n           2       0.12      0.25      0.17         4\\n           3       0.62      0.56      0.59         9\\n\\n    accuracy                           0.46        24\\n   macro avg       0.46      0.42      0.43        24\\nweighted avg       0.54      0.46      0.49        24\\n'"
            ]
          },
          "metadata": {
            "tags": []
          },
          "execution_count": 18
        }
      ]
    },
    {
      "cell_type": "code",
      "metadata": {
        "id": "0_2coHl9nOW_",
        "colab_type": "code",
        "outputId": "70235c70-4199-414d-f7f1-5d6e8c2610b8",
        "colab": {
          "base_uri": "https://localhost:8080/",
          "height": 35
        }
      },
      "source": [
        "print(y_pred)"
      ],
      "execution_count": 19,
      "outputs": [
        {
          "output_type": "stream",
          "text": [
            "[2 1 1 1 1 1 3 2 3 1 3 1 1 1 2 3 3 3 3 3 3 1 1 2]\n"
          ],
          "name": "stdout"
        }
      ]
    }
  ]
}